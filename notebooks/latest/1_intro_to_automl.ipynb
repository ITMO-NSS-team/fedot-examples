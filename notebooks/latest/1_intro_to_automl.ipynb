{
 "cells": [
  {
   "cell_type": "markdown",
   "metadata": {
    "pycharm": {
     "name": "#%% md\n"
    }
   },
   "source": [
    "# AutoML solution vs single model\n",
    "#### FEDOT version = 0.6.2"
   ]
  },
  {
   "cell_type": "code",
   "execution_count": 1,
   "metadata": {},
   "outputs": [
    {
     "name": "stdout",
     "output_type": "stream",
     "text": [
      "Collecting fedot==0.6.2\n",
      "  Downloading fedot-0.6.2-py3-none-any.whl (493 kB)\n",
      "     -------------------------------------- 493.9/493.9 kB 3.1 MB/s eta 0:00:00\n",
      "Requirement already satisfied: joblib>=0.17.0 in c:\\users\\valery\\appdata\\local\\programs\\python\\python38\\lib\\site-packages (from fedot==0.6.2) (1.1.0)\n",
      "Requirement already satisfied: scikit-learn>=1.0.0 in c:\\users\\valery\\appdata\\local\\programs\\python\\python38\\lib\\site-packages (from fedot==0.6.2) (1.1.2)\n",
      "Requirement already satisfied: xgboost>=1.4.0 in c:\\users\\valery\\appdata\\local\\programs\\python\\python38\\lib\\site-packages (from fedot==0.6.2) (1.6.2)\n",
      "Requirement already satisfied: scikit-optimize>=0.7.4 in c:\\users\\valery\\appdata\\local\\programs\\python\\python38\\lib\\site-packages (from fedot==0.6.2) (0.9.0)\n",
      "Requirement already satisfied: requests>=2.0 in c:\\users\\valery\\appdata\\local\\programs\\python\\python38\\lib\\site-packages (from fedot==0.6.2) (2.28.1)\n",
      "Requirement already satisfied: pytest>=6.2.0 in c:\\users\\valery\\appdata\\local\\programs\\python\\python38\\lib\\site-packages (from fedot==0.6.2) (7.1.2)\n",
      "Requirement already satisfied: numpy!=1.24.0,>=1.16.0 in c:\\users\\valery\\appdata\\local\\programs\\python\\python38\\lib\\site-packages (from fedot==0.6.2) (1.19.5)\n",
      "Requirement already satisfied: seaborn>=0.9.0 in c:\\users\\valery\\appdata\\local\\programs\\python\\python38\\lib\\site-packages (from fedot==0.6.2) (0.12.0rc0)\n",
      "Requirement already satisfied: pyvis==0.2.1 in c:\\users\\valery\\appdata\\local\\programs\\python\\python38\\lib\\site-packages (from fedot==0.6.2) (0.2.1)\n",
      "Requirement already satisfied: func-timeout==4.3.5 in c:\\users\\valery\\appdata\\local\\programs\\python\\python38\\lib\\site-packages (from fedot==0.6.2) (4.3.5)\n",
      "Requirement already satisfied: hyperopt==0.2.7 in c:\\users\\valery\\appdata\\local\\programs\\python\\python38\\lib\\site-packages (from fedot==0.6.2) (0.2.7)\n",
      "Requirement already satisfied: lightgbm>=3.0.0 in c:\\users\\valery\\appdata\\local\\programs\\python\\python38\\lib\\site-packages (from fedot==0.6.2) (3.3.2)\n",
      "Requirement already satisfied: typing>=3.7.0 in c:\\users\\valery\\appdata\\local\\programs\\python\\python38\\lib\\site-packages (from fedot==0.6.2) (3.7.4.3)\n",
      "Requirement already satisfied: networkx!=2.7.*,!=2.8.1,!=2.8.2,!=2.8.3,>=2.4 in c:\\users\\valery\\appdata\\local\\programs\\python\\python38\\lib\\site-packages (from fedot==0.6.2) (2.8.6)\n",
      "Requirement already satisfied: matplotlib>=3.3.1 in c:\\users\\valery\\appdata\\local\\programs\\python\\python38\\lib\\site-packages (from fedot==0.6.2) (3.5.3)\n",
      "Requirement already satisfied: tqdm in c:\\users\\valery\\appdata\\local\\programs\\python\\python38\\lib\\site-packages (from fedot==0.6.2) (4.64.0)\n",
      "Requirement already satisfied: testfixtures>=6.18.0 in c:\\users\\valery\\appdata\\local\\programs\\python\\python38\\lib\\site-packages (from fedot==0.6.2) (7.0.0)\n",
      "Requirement already satisfied: SALib>=1.3.0 in c:\\users\\valery\\appdata\\local\\programs\\python\\python38\\lib\\site-packages (from fedot==0.6.2) (1.4.6b1)\n",
      "Requirement already satisfied: ete3>=3.1.0 in c:\\users\\valery\\appdata\\local\\programs\\python\\python38\\lib\\site-packages (from fedot==0.6.2) (3.1.2)\n",
      "Requirement already satisfied: anytree>=2.8.0 in c:\\users\\valery\\appdata\\local\\programs\\python\\python38\\lib\\site-packages (from fedot==0.6.2) (2.8.0)\n",
      "Requirement already satisfied: statsmodels>=0.12.0 in c:\\users\\valery\\appdata\\local\\programs\\python\\python38\\lib\\site-packages (from fedot==0.6.2) (0.13.2)\n",
      "Requirement already satisfied: catboost>=0.25.0 in c:\\users\\valery\\appdata\\local\\programs\\python\\python38\\lib\\site-packages (from fedot==0.6.2) (1.0.6)\n",
      "Requirement already satisfied: psutil>=5.7.3 in c:\\users\\valery\\appdata\\local\\programs\\python\\python38\\lib\\site-packages (from fedot==0.6.2) (5.9.2)\n",
      "Requirement already satisfied: pandas>=1.3.0 in c:\\users\\valery\\appdata\\local\\programs\\python\\python38\\lib\\site-packages (from fedot==0.6.2) (1.4.3)\n",
      "Requirement already satisfied: py4j in c:\\users\\valery\\appdata\\local\\programs\\python\\python38\\lib\\site-packages (from hyperopt==0.2.7->fedot==0.6.2) (0.10.9.7)\n",
      "Requirement already satisfied: future in c:\\users\\valery\\appdata\\local\\programs\\python\\python38\\lib\\site-packages (from hyperopt==0.2.7->fedot==0.6.2) (0.18.2)\n",
      "Requirement already satisfied: six in c:\\users\\valery\\appdata\\local\\programs\\python\\python38\\lib\\site-packages (from hyperopt==0.2.7->fedot==0.6.2) (1.15.0)\n",
      "Requirement already satisfied: scipy in c:\\users\\valery\\appdata\\local\\programs\\python\\python38\\lib\\site-packages (from hyperopt==0.2.7->fedot==0.6.2) (1.9.1)\n",
      "Requirement already satisfied: cloudpickle in c:\\users\\valery\\appdata\\local\\programs\\python\\python38\\lib\\site-packages (from hyperopt==0.2.7->fedot==0.6.2) (2.1.0)\n",
      "Requirement already satisfied: ipython>=5.3.0 in c:\\users\\valery\\appdata\\local\\programs\\python\\python38\\lib\\site-packages (from pyvis==0.2.1->fedot==0.6.2) (8.4.0)\n",
      "Requirement already satisfied: jsonpickle>=1.4.1 in c:\\users\\valery\\appdata\\local\\programs\\python\\python38\\lib\\site-packages (from pyvis==0.2.1->fedot==0.6.2) (2.2.0)\n",
      "Requirement already satisfied: jinja2>=2.9.6 in c:\\users\\valery\\appdata\\local\\programs\\python\\python38\\lib\\site-packages (from pyvis==0.2.1->fedot==0.6.2) (3.1.2)\n",
      "Requirement already satisfied: plotly in c:\\users\\valery\\appdata\\local\\programs\\python\\python38\\lib\\site-packages (from catboost>=0.25.0->fedot==0.6.2) (5.10.0)\n",
      "Requirement already satisfied: graphviz in c:\\users\\valery\\appdata\\local\\programs\\python\\python38\\lib\\site-packages (from catboost>=0.25.0->fedot==0.6.2) (0.20)\n",
      "Requirement already satisfied: wheel in c:\\users\\valery\\appdata\\local\\programs\\python\\python38\\lib\\site-packages (from lightgbm>=3.0.0->fedot==0.6.2) (0.37.1)\n",
      "Requirement already satisfied: cycler>=0.10 in c:\\users\\valery\\appdata\\local\\programs\\python\\python38\\lib\\site-packages (from matplotlib>=3.3.1->fedot==0.6.2) (0.11.0)\n",
      "Requirement already satisfied: packaging>=20.0 in c:\\users\\valery\\appdata\\local\\programs\\python\\python38\\lib\\site-packages (from matplotlib>=3.3.1->fedot==0.6.2) (21.3)\n",
      "Requirement already satisfied: kiwisolver>=1.0.1 in c:\\users\\valery\\appdata\\local\\programs\\python\\python38\\lib\\site-packages (from matplotlib>=3.3.1->fedot==0.6.2) (1.4.4)\n",
      "Requirement already satisfied: fonttools>=4.22.0 in c:\\users\\valery\\appdata\\local\\programs\\python\\python38\\lib\\site-packages (from matplotlib>=3.3.1->fedot==0.6.2) (4.37.1)\n",
      "Requirement already satisfied: pillow>=6.2.0 in c:\\users\\valery\\appdata\\local\\programs\\python\\python38\\lib\\site-packages (from matplotlib>=3.3.1->fedot==0.6.2) (9.2.0)\n",
      "Requirement already satisfied: python-dateutil>=2.7 in c:\\users\\valery\\appdata\\local\\programs\\python\\python38\\lib\\site-packages (from matplotlib>=3.3.1->fedot==0.6.2) (2.8.2)\n",
      "Requirement already satisfied: pyparsing>=2.2.1 in c:\\users\\valery\\appdata\\local\\programs\\python\\python38\\lib\\site-packages (from matplotlib>=3.3.1->fedot==0.6.2) (3.0.9)\n",
      "Requirement already satisfied: pytz>=2020.1 in c:\\users\\valery\\appdata\\local\\programs\\python\\python38\\lib\\site-packages (from pandas>=1.3.0->fedot==0.6.2) (2022.2.1)\n",
      "Requirement already satisfied: colorama in c:\\users\\valery\\appdata\\local\\programs\\python\\python38\\lib\\site-packages (from pytest>=6.2.0->fedot==0.6.2) (0.4.5)\n",
      "Requirement already satisfied: tomli>=1.0.0 in c:\\users\\valery\\appdata\\local\\programs\\python\\python38\\lib\\site-packages (from pytest>=6.2.0->fedot==0.6.2) (2.0.1)\n",
      "Requirement already satisfied: iniconfig in c:\\users\\valery\\appdata\\local\\programs\\python\\python38\\lib\\site-packages (from pytest>=6.2.0->fedot==0.6.2) (1.1.1)\n",
      "Requirement already satisfied: py>=1.8.2 in c:\\users\\valery\\appdata\\local\\programs\\python\\python38\\lib\\site-packages (from pytest>=6.2.0->fedot==0.6.2) (1.11.0)\n",
      "Requirement already satisfied: pluggy<2.0,>=0.12 in c:\\users\\valery\\appdata\\local\\programs\\python\\python38\\lib\\site-packages (from pytest>=6.2.0->fedot==0.6.2) (1.0.0)\n",
      "Requirement already satisfied: atomicwrites>=1.0 in c:\\users\\valery\\appdata\\local\\programs\\python\\python38\\lib\\site-packages (from pytest>=6.2.0->fedot==0.6.2) (1.4.1)\n",
      "Requirement already satisfied: attrs>=19.2.0 in c:\\users\\valery\\appdata\\local\\programs\\python\\python38\\lib\\site-packages (from pytest>=6.2.0->fedot==0.6.2) (22.1.0)\n",
      "Requirement already satisfied: charset-normalizer<3,>=2 in c:\\users\\valery\\appdata\\local\\programs\\python\\python38\\lib\\site-packages (from requests>=2.0->fedot==0.6.2) (2.1.1)\n",
      "Requirement already satisfied: certifi>=2017.4.17 in c:\\users\\valery\\appdata\\local\\programs\\python\\python38\\lib\\site-packages (from requests>=2.0->fedot==0.6.2) (2022.6.15)\n",
      "Requirement already satisfied: urllib3<1.27,>=1.21.1 in c:\\users\\valery\\appdata\\local\\programs\\python\\python38\\lib\\site-packages (from requests>=2.0->fedot==0.6.2) (1.26.12)\n",
      "Requirement already satisfied: idna<4,>=2.5 in c:\\users\\valery\\appdata\\local\\programs\\python\\python38\\lib\\site-packages (from requests>=2.0->fedot==0.6.2) (3.3)\n",
      "Requirement already satisfied: setuptools in c:\\users\\valery\\appdata\\local\\programs\\python\\python38\\lib\\site-packages (from SALib>=1.3.0->fedot==0.6.2) (65.3.0)\n",
      "Requirement already satisfied: pathos in c:\\users\\valery\\appdata\\local\\programs\\python\\python38\\lib\\site-packages (from SALib>=1.3.0->fedot==0.6.2) (0.2.9)\n",
      "Requirement already satisfied: threadpoolctl>=2.0.0 in c:\\users\\valery\\appdata\\local\\programs\\python\\python38\\lib\\site-packages (from scikit-learn>=1.0.0->fedot==0.6.2) (3.1.0)\n",
      "Requirement already satisfied: pyaml>=16.9 in c:\\users\\valery\\appdata\\local\\programs\\python\\python38\\lib\\site-packages (from scikit-optimize>=0.7.4->fedot==0.6.2) (21.10.1)\n",
      "Requirement already satisfied: patsy>=0.5.2 in c:\\users\\valery\\appdata\\local\\programs\\python\\python38\\lib\\site-packages (from statsmodels>=0.12.0->fedot==0.6.2) (0.5.2)\n",
      "Requirement already satisfied: stack-data in c:\\users\\valery\\appdata\\local\\programs\\python\\python38\\lib\\site-packages (from ipython>=5.3.0->pyvis==0.2.1->fedot==0.6.2) (0.4.0)\n",
      "Requirement already satisfied: decorator in c:\\users\\valery\\appdata\\local\\programs\\python\\python38\\lib\\site-packages (from ipython>=5.3.0->pyvis==0.2.1->fedot==0.6.2) (5.1.1)\n",
      "Requirement already satisfied: matplotlib-inline in c:\\users\\valery\\appdata\\local\\programs\\python\\python38\\lib\\site-packages (from ipython>=5.3.0->pyvis==0.2.1->fedot==0.6.2) (0.1.6)\n",
      "Requirement already satisfied: jedi>=0.16 in c:\\users\\valery\\appdata\\local\\programs\\python\\python38\\lib\\site-packages (from ipython>=5.3.0->pyvis==0.2.1->fedot==0.6.2) (0.18.1)\n",
      "Requirement already satisfied: pygments>=2.4.0 in c:\\users\\valery\\appdata\\local\\programs\\python\\python38\\lib\\site-packages (from ipython>=5.3.0->pyvis==0.2.1->fedot==0.6.2) (2.13.0)\n",
      "Requirement already satisfied: pickleshare in c:\\users\\valery\\appdata\\local\\programs\\python\\python38\\lib\\site-packages (from ipython>=5.3.0->pyvis==0.2.1->fedot==0.6.2) (0.7.5)\n",
      "Requirement already satisfied: traitlets>=5 in c:\\users\\valery\\appdata\\local\\programs\\python\\python38\\lib\\site-packages (from ipython>=5.3.0->pyvis==0.2.1->fedot==0.6.2) (5.3.0)\n",
      "Requirement already satisfied: prompt-toolkit!=3.0.0,!=3.0.1,<3.1.0,>=2.0.0 in c:\\users\\valery\\appdata\\local\\programs\\python\\python38\\lib\\site-packages (from ipython>=5.3.0->pyvis==0.2.1->fedot==0.6.2) (3.0.30)\n",
      "Requirement already satisfied: backcall in c:\\users\\valery\\appdata\\local\\programs\\python\\python38\\lib\\site-packages (from ipython>=5.3.0->pyvis==0.2.1->fedot==0.6.2) (0.2.0)\n",
      "Requirement already satisfied: MarkupSafe>=2.0 in c:\\users\\valery\\appdata\\local\\programs\\python\\python38\\lib\\site-packages (from jinja2>=2.9.6->pyvis==0.2.1->fedot==0.6.2) (2.1.1)\n",
      "Requirement already satisfied: PyYAML in c:\\users\\valery\\appdata\\local\\programs\\python\\python38\\lib\\site-packages (from pyaml>=16.9->scikit-optimize>=0.7.4->fedot==0.6.2) (6.0)\n",
      "Requirement already satisfied: pox>=0.3.1 in c:\\users\\valery\\appdata\\local\\programs\\python\\python38\\lib\\site-packages (from pathos->SALib>=1.3.0->fedot==0.6.2) (0.3.1)\n",
      "Requirement already satisfied: multiprocess>=0.70.13 in c:\\users\\valery\\appdata\\local\\programs\\python\\python38\\lib\\site-packages (from pathos->SALib>=1.3.0->fedot==0.6.2) (0.70.13)\n",
      "Requirement already satisfied: dill>=0.3.5.1 in c:\\users\\valery\\appdata\\local\\programs\\python\\python38\\lib\\site-packages (from pathos->SALib>=1.3.0->fedot==0.6.2) (0.3.5.1)\n",
      "Requirement already satisfied: ppft>=1.7.6.5 in c:\\users\\valery\\appdata\\local\\programs\\python\\python38\\lib\\site-packages (from pathos->SALib>=1.3.0->fedot==0.6.2) (1.7.6.5)\n",
      "Requirement already satisfied: tenacity>=6.2.0 in c:\\users\\valery\\appdata\\local\\programs\\python\\python38\\lib\\site-packages (from plotly->catboost>=0.25.0->fedot==0.6.2) (8.0.1)\n",
      "Requirement already satisfied: parso<0.9.0,>=0.8.0 in c:\\users\\valery\\appdata\\local\\programs\\python\\python38\\lib\\site-packages (from jedi>=0.16->ipython>=5.3.0->pyvis==0.2.1->fedot==0.6.2) (0.8.3)\n",
      "Requirement already satisfied: wcwidth in c:\\users\\valery\\appdata\\local\\programs\\python\\python38\\lib\\site-packages (from prompt-toolkit!=3.0.0,!=3.0.1,<3.1.0,>=2.0.0->ipython>=5.3.0->pyvis==0.2.1->fedot==0.6.2) (0.2.5)\n",
      "Requirement already satisfied: executing in c:\\users\\valery\\appdata\\local\\programs\\python\\python38\\lib\\site-packages (from stack-data->ipython>=5.3.0->pyvis==0.2.1->fedot==0.6.2) (0.10.0)\n",
      "Requirement already satisfied: asttokens in c:\\users\\valery\\appdata\\local\\programs\\python\\python38\\lib\\site-packages (from stack-data->ipython>=5.3.0->pyvis==0.2.1->fedot==0.6.2) (2.0.8)\n",
      "Requirement already satisfied: pure-eval in c:\\users\\valery\\appdata\\local\\programs\\python\\python38\\lib\\site-packages (from stack-data->ipython>=5.3.0->pyvis==0.2.1->fedot==0.6.2) (0.2.2)\n",
      "Installing collected packages: fedot\n",
      "  Attempting uninstall: fedot\n",
      "    Found existing installation: fedot 0.6.1\n",
      "    Uninstalling fedot-0.6.1:\n",
      "      Successfully uninstalled fedot-0.6.1\n",
      "Successfully installed fedot-0.6.2\n",
      "Note: you may need to restart the kernel to use updated packages.\n"
     ]
    },
    {
     "name": "stderr",
     "output_type": "stream",
     "text": [
      "\n",
      "[notice] A new release of pip available: 22.2.2 -> 23.0.1\n",
      "[notice] To update, run: python.exe -m pip install --upgrade pip\n"
     ]
    }
   ],
   "source": [
    "pip install fedot==0.6.2"
   ]
  },
  {
   "cell_type": "markdown",
   "metadata": {},
   "source": [
    "Below is an example of running an Auto ML solution for a classification problem.\n",
    "## Description of the task and dataset"
   ]
  },
  {
   "cell_type": "code",
   "execution_count": 1,
   "metadata": {
    "pycharm": {
     "is_executing": false
    }
   },
   "outputs": [
    {
     "data": {
      "text/html": [
       "<div>\n",
       "<style scoped>\n",
       "    .dataframe tbody tr th:only-of-type {\n",
       "        vertical-align: middle;\n",
       "    }\n",
       "\n",
       "    .dataframe tbody tr th {\n",
       "        vertical-align: top;\n",
       "    }\n",
       "\n",
       "    .dataframe thead th {\n",
       "        text-align: right;\n",
       "    }\n",
       "</style>\n",
       "<table border=\"1\" class=\"dataframe\">\n",
       "  <thead>\n",
       "    <tr style=\"text-align: right;\">\n",
       "      <th></th>\n",
       "      <th>ID</th>\n",
       "      <th>RevolvingUtilizationOfUnsecuredLines</th>\n",
       "      <th>age</th>\n",
       "      <th>NumberOfTime30.59DaysPastDueNotWorse</th>\n",
       "      <th>DebtRatio</th>\n",
       "      <th>MonthlyIncome</th>\n",
       "      <th>NumberOfOpenCreditLinesAndLoans</th>\n",
       "      <th>NumberOfTimes90DaysLate</th>\n",
       "      <th>NumberRealEstateLoansOrLines</th>\n",
       "      <th>NumberOfTime60.89DaysPastDueNotWorse</th>\n",
       "      <th>NumberOfDependents</th>\n",
       "      <th>target</th>\n",
       "    </tr>\n",
       "  </thead>\n",
       "  <tbody>\n",
       "    <tr>\n",
       "      <th>0</th>\n",
       "      <td>0</td>\n",
       "      <td>0.766127</td>\n",
       "      <td>45</td>\n",
       "      <td>2</td>\n",
       "      <td>0.802982</td>\n",
       "      <td>9120.0</td>\n",
       "      <td>13</td>\n",
       "      <td>0</td>\n",
       "      <td>6</td>\n",
       "      <td>0</td>\n",
       "      <td>2.0</td>\n",
       "      <td>1</td>\n",
       "    </tr>\n",
       "    <tr>\n",
       "      <th>1</th>\n",
       "      <td>1</td>\n",
       "      <td>0.957151</td>\n",
       "      <td>40</td>\n",
       "      <td>0</td>\n",
       "      <td>0.121876</td>\n",
       "      <td>2600.0</td>\n",
       "      <td>4</td>\n",
       "      <td>0</td>\n",
       "      <td>0</td>\n",
       "      <td>0</td>\n",
       "      <td>1.0</td>\n",
       "      <td>0</td>\n",
       "    </tr>\n",
       "    <tr>\n",
       "      <th>2</th>\n",
       "      <td>2</td>\n",
       "      <td>0.658180</td>\n",
       "      <td>38</td>\n",
       "      <td>1</td>\n",
       "      <td>0.085113</td>\n",
       "      <td>3042.0</td>\n",
       "      <td>2</td>\n",
       "      <td>1</td>\n",
       "      <td>0</td>\n",
       "      <td>0</td>\n",
       "      <td>0.0</td>\n",
       "      <td>0</td>\n",
       "    </tr>\n",
       "    <tr>\n",
       "      <th>3</th>\n",
       "      <td>3</td>\n",
       "      <td>0.233810</td>\n",
       "      <td>30</td>\n",
       "      <td>0</td>\n",
       "      <td>0.036050</td>\n",
       "      <td>3300.0</td>\n",
       "      <td>5</td>\n",
       "      <td>0</td>\n",
       "      <td>0</td>\n",
       "      <td>0</td>\n",
       "      <td>0.0</td>\n",
       "      <td>0</td>\n",
       "    </tr>\n",
       "    <tr>\n",
       "      <th>4</th>\n",
       "      <td>4</td>\n",
       "      <td>0.907239</td>\n",
       "      <td>49</td>\n",
       "      <td>1</td>\n",
       "      <td>0.024926</td>\n",
       "      <td>63588.0</td>\n",
       "      <td>7</td>\n",
       "      <td>0</td>\n",
       "      <td>1</td>\n",
       "      <td>0</td>\n",
       "      <td>0.0</td>\n",
       "      <td>0</td>\n",
       "    </tr>\n",
       "  </tbody>\n",
       "</table>\n",
       "</div>"
      ],
      "text/plain": [
       "   ID  RevolvingUtilizationOfUnsecuredLines  age  \\\n",
       "0   0                              0.766127   45   \n",
       "1   1                              0.957151   40   \n",
       "2   2                              0.658180   38   \n",
       "3   3                              0.233810   30   \n",
       "4   4                              0.907239   49   \n",
       "\n",
       "   NumberOfTime30.59DaysPastDueNotWorse  DebtRatio  MonthlyIncome  \\\n",
       "0                                     2   0.802982         9120.0   \n",
       "1                                     0   0.121876         2600.0   \n",
       "2                                     1   0.085113         3042.0   \n",
       "3                                     0   0.036050         3300.0   \n",
       "4                                     1   0.024926        63588.0   \n",
       "\n",
       "   NumberOfOpenCreditLinesAndLoans  NumberOfTimes90DaysLate  \\\n",
       "0                               13                        0   \n",
       "1                                4                        0   \n",
       "2                                2                        1   \n",
       "3                                5                        0   \n",
       "4                                7                        0   \n",
       "\n",
       "   NumberRealEstateLoansOrLines  NumberOfTime60.89DaysPastDueNotWorse  \\\n",
       "0                             6                                     0   \n",
       "1                             0                                     0   \n",
       "2                             0                                     0   \n",
       "3                             0                                     0   \n",
       "4                             1                                     0   \n",
       "\n",
       "   NumberOfDependents  target  \n",
       "0                 2.0       1  \n",
       "1                 1.0       0  \n",
       "2                 0.0       0  \n",
       "3                 0.0       0  \n",
       "4                 0.0       0  "
      ]
     },
     "execution_count": 1,
     "metadata": {},
     "output_type": "execute_result"
    }
   ],
   "source": [
    "import pandas as pd\n",
    "import warnings\n",
    "warnings.filterwarnings(\"ignore\")\n",
    "\n",
    "import logging\n",
    "logging.raiseExceptions = False\n",
    "\n",
    "# Input data from csv files \n",
    "train_data_path = '../data/scoring_train.csv'\n",
    "test_data_path = '../data/scoring_test.csv'\n",
    "df = pd.read_csv(train_data_path)\n",
    "df.head(5)"
   ]
  },
  {
   "cell_type": "markdown",
   "metadata": {},
   "source": [
    "## Baseline model\n",
    "\n",
    "Let's use the api features to solve the classification problem. First, we create a pipeline with a single model \"xgboost\". \n",
    "To do this, we will substitute the appropriate name in the predefined_model field.\n",
    "\n",
    "Attention!\n",
    "\"predefined_model\" - is not an initial assumption for the AutoML algorithm. It's just a single model without AutoML part"
   ]
  },
  {
   "cell_type": "code",
   "execution_count": 2,
   "metadata": {
    "pycharm": {
     "is_executing": false,
     "name": "#%%\n"
    }
   },
   "outputs": [
    {
     "name": "stdout",
     "output_type": "stream",
     "text": [
      "2023-02-21 21:48:44,359 - CSV data extraction - Used the column as index: \"ID\".\n",
      "2023-02-21 21:48:49,955 - FEDOT logger - Final pipeline: {'depth': 1, 'length': 1, 'nodes': [xgboost]}\n",
      "xgboost - {'eval_metric': 'mlogloss', 'nthread': -1}\n",
      "Memory consumption for finish in main session: current 63.2 MiB, max: 90.7 MiB\n",
      "2023-02-21 21:48:50,025 - CSV data extraction - Used the column as index: \"ID\".\n"
     ]
    }
   ],
   "source": [
    "from fedot.api.main import Fedot\n",
    "\n",
    "# task selection, initialisation of the framework\n",
    "baseline_model = Fedot(problem='classification')\n",
    "\n",
    "# fit model without optimisation - single XGBoost node is used \n",
    "xgb_pipeline = baseline_model.fit(features=train_data_path, target='target', predefined_model='xgboost')\n",
    "\n",
    "# evaluate the prediction with test data\n",
    "xgb_predict = baseline_model.predict_proba(features=test_data_path)"
   ]
  },
  {
   "cell_type": "code",
   "execution_count": 3,
   "metadata": {},
   "outputs": [
    {
     "name": "stdout",
     "output_type": "stream",
     "text": [
      "2023-02-21 21:48:50,144 - CSV data extraction - Used the column as index: \"ID\".\n"
     ]
    },
    {
     "data": {
      "text/plain": [
       "0.8332360242279814"
      ]
     },
     "execution_count": 3,
     "metadata": {},
     "output_type": "execute_result"
    }
   ],
   "source": [
    "from fedot.core.data.data import InputData\n",
    "from sklearn.metrics import roc_auc_score\n",
    "\n",
    "# Read data from csv file as InputData\n",
    "test_data = InputData.from_csv(test_data_path)\n",
    "roc_auc_baseline = roc_auc_score(test_data.target, xgb_predict)\n",
    "roc_auc_baseline"
   ]
  },
  {
   "cell_type": "markdown",
   "metadata": {
    "pycharm": {
     "name": "#%% md\n"
    },
    "tags": []
   },
   "source": [
    "## FEDOT AutoML for classification\n",
    "\n",
    "We can identify the model using an evolutionary algorithm built into the core of the FEDOT framework.\n",
    "\n",
    "Here are some parameters that you can specify when initializing a class:\n",
    "* problem - the name of modelling problem to solve:\n",
    "        - classification\n",
    "        - regression\n",
    "        - ts_forecasting\n",
    "        - clustering\n",
    "* seed - value for fixed random seed\n",
    "* logging_level - level of the output detailing\n",
    "        - 50 -> critical\n",
    "        - 40 -> error\n",
    "        - 30 -> warning\n",
    "        - 20 -> info\n",
    "        - 10 -> debug\n",
    "        - 0 -> nonset\n",
    "* timeout - time for model design (in minutes)"
   ]
  },
  {
   "cell_type": "code",
   "execution_count": 4,
   "metadata": {
    "pycharm": {
     "is_executing": false,
     "name": "#%%\n"
    }
   },
   "outputs": [],
   "source": [
    "# new instance to be used as AutoML tool\n",
    "auto_model = Fedot(problem='classification', seed=42, logging_level=10, timeout=5)"
   ]
  },
  {
   "cell_type": "code",
   "execution_count": null,
   "metadata": {
    "pycharm": {
     "is_executing": true,
     "name": "#%%\n"
    }
   },
   "outputs": [
    {
     "name": "stdout",
     "output_type": "stream",
     "text": [
      "2023-02-21 21:48:50,193 - CSV data extraction - Used the column as index: \"ID\".\n",
      "2023-02-21 21:48:54,224 - AssumptionsHandler - Memory consumption for fitting of the initial pipeline in main session: current 11.5 MiB, max: 39.1 MiB\n",
      "2023-02-21 21:48:54,228 - ApiComposer - Initial pipeline was fitted in 3.0 sec.\n",
      "2023-02-21 21:48:54,229 - AssumptionsHandler - Preset was changed to best_quality due to fit time estimation for initial model.\n",
      "2023-02-21 21:48:54,236 - ApiComposer - AutoML configured. Parameters tuning: True. Time limit: 5 min. Set of candidate models: ['logit', 'resample', 'qda', 'lgbm', 'mlp', 'normalization', 'dt', 'bernb', 'knn', 'scaling', 'fast_ica', 'pca', 'poly_features', 'isolation_forest_class', 'rf', 'logit', 'resample', 'qda', 'lgbm', 'mlp', 'normalization', 'dt', 'bernb', 'knn', 'scaling', 'fast_ica', 'pca', 'poly_features', 'isolation_forest_class', 'rf'].\n",
      "2023-02-21 21:48:54,242 - ApiComposer - Pipeline composition started.\n",
      "2023-02-21 21:48:54,253 - DataSourceSplitter - K-folds cross validation is applied.\n"
     ]
    },
    {
     "name": "stderr",
     "output_type": "stream",
     "text": [
      "\r",
      "Generations:   0%|                                                                          | 1/10000 [00:00<?, ?gen/s]"
     ]
    },
    {
     "name": "stdout",
     "output_type": "stream",
     "text": [
      "2023-02-21 21:48:54,259 - MultiprocessingDispatcher - Number of used CPU's: 12\n",
      "2023-02-21 21:49:04,125 - MultiprocessingDispatcher - Memory consumption for parallel evaluation of population in main session: current 13.7 MiB, max: 39.1 MiB\n",
      "2023-02-21 21:49:04,127 - EvoGraphOptimizer - Generation num: 1\n",
      "2023-02-21 21:49:04,129 - EvoGraphOptimizer - Best individuals: HallOfFame archive fitness (1): ['<ClassificationMetricsEnum.ROCAUC_penalty=-0.827 ComplexityMetricsEnum.node_num=0.200>']\n",
      "2023-02-21 21:49:05,386 - MultiprocessingDispatcher - Number of used CPU's: 12\n",
      "2023-02-21 21:51:00,850 - MultiprocessingDispatcher - Memory consumption for parallel evaluation of population in main session: current 55.9 MiB, max: 57.7 MiB\n",
      "2023-02-21 21:51:00,853 - EvoGraphOptimizer - Generation num: 2\n",
      "2023-02-21 21:51:00,854 - EvoGraphOptimizer - Best individuals: HallOfFame archive fitness (1): ['<ClassificationMetricsEnum.ROCAUC_penalty=-0.852 ComplexityMetricsEnum.node_num=0.200>']\n",
      "2023-02-21 21:51:00,856 - EvoGraphOptimizer - Next population size: 21; max graph depth: 6\n",
      "2023-02-21 21:51:01,594 - MultiprocessingDispatcher - Number of used CPU's: 12\n",
      "2023-02-21 21:52:01,641 - MultiprocessingDispatcher - Memory consumption for parallel evaluation of population in main session: current 37.2 MiB, max: 61.7 MiB\n",
      "2023-02-21 21:52:01,646 - EvoGraphOptimizer - Generation num: 3\n",
      "2023-02-21 21:52:01,647 - EvoGraphOptimizer - Best individuals: HallOfFame archive fitness (1): ['<ClassificationMetricsEnum.ROCAUC_penalty=-0.852 ComplexityMetricsEnum.node_num=0.200>']\n",
      "2023-02-21 21:52:01,648 - EvoGraphOptimizer - no improvements for 1 iterations\n",
      "2023-02-21 21:52:01,650 - EvoGraphOptimizer - spent time: 3.1 min\n",
      "2023-02-21 21:52:01,651 - GroupedCondition - Optimisation stopped: Time limit is reached\n"
     ]
    },
    {
     "name": "stderr",
     "output_type": "stream",
     "text": [
      "\r",
      "Generations:   0%|                                                                          | 1/10000 [03:07<?, ?gen/s]"
     ]
    },
    {
     "name": "stdout",
     "output_type": "stream",
     "text": [
      "2023-02-21 21:52:01,653 - OptimisationTimer - Composition time: 3.123 min\n",
      "2023-02-21 21:52:01,655 - OptimisationTimer - Algorithm was terminated due to processing time limit\n",
      "2023-02-21 21:52:01,657 - EvoGraphOptimizer - Generation num: 4\n",
      "2023-02-21 21:52:01,658 - EvoGraphOptimizer - Best individuals: HallOfFame archive fitness (1): ['<ClassificationMetricsEnum.ROCAUC_penalty=-0.852 ComplexityMetricsEnum.node_num=0.200>']\n",
      "2023-02-21 21:52:01,659 - EvoGraphOptimizer - no improvements for 2 iterations\n",
      "2023-02-21 21:52:01,660 - EvoGraphOptimizer - spent time: 3.1 min\n",
      "2023-02-21 21:52:01,664 - GPComposer - GP composition finished\n",
      "2023-02-21 21:52:01,666 - DataSourceSplitter - K-folds cross validation is applied.\n",
      "2023-02-21 21:52:01,669 - ApiComposer - Hyperparameters tuning started with 2 min. timeout\n",
      "2023-02-21 21:52:01,674 - PipelineTuner - Hyperparameters optimization start: estimation of metric for initial pipeline\n"
     ]
    },
    {
     "name": "stderr",
     "output_type": "stream",
     "text": [
      "\n"
     ]
    },
    {
     "name": "stdout",
     "output_type": "stream",
     "text": [
      "2023-02-21 21:52:08,413 - PipelineTuner - Initial pipeline: {'depth': 2, 'length': 2, 'nodes': [lgbm, scaling]}\n",
      "lgbm - {'num_leaves': 32, 'colsample_bytree': 0.8, 'subsample': 0.8, 'subsample_freq': 10, 'learning_rate': 0.03, 'n_estimators': 100}\n",
      "scaling - {} \n",
      "Initial metric: 0.852\n",
      "  0%|                                                                           | 0/10 [00:00<?, ?trial/s, best loss=?]2023-02-21 21:52:08,433 - build_posterior_wrapper took 0.007001 seconds\n",
      "2023-02-21 21:52:08,434 - TPE using 0 trials\n",
      " 10%|████▊                                           | 1/10 [00:06<01:01,  6.78s/trial, best loss: -0.8520924000000001]2023-02-21 21:52:15,216 - build_posterior_wrapper took 0.007002 seconds\n",
      "2023-02-21 21:52:15,218 - TPE using 1/1 trials with best loss -0.852092\n",
      " 20%|█████████▌                                      | 2/10 [00:13<00:53,  6.71s/trial, best loss: -0.8520924000000001]2023-02-21 21:52:21,879 - build_posterior_wrapper took 0.007002 seconds\n",
      "2023-02-21 21:52:21,881 - TPE using 2/2 trials with best loss -0.852092\n",
      " 30%|██████████████▍                                 | 3/10 [00:20<00:47,  6.83s/trial, best loss: -0.8520924000000001]2023-02-21 21:52:28,851 - build_posterior_wrapper took 0.008003 seconds\n",
      "2023-02-21 21:52:28,853 - TPE using 3/3 trials with best loss -0.852092\n",
      " 40%|███████████████████▏                            | 4/10 [00:27<00:41,  6.90s/trial, best loss: -0.8538887999999998]2023-02-21 21:52:35,868 - build_posterior_wrapper took 0.007001 seconds\n",
      "2023-02-21 21:52:35,870 - TPE using 4/4 trials with best loss -0.853889\n",
      " 50%|████████████████████████                        | 5/10 [00:34<00:33,  6.80s/trial, best loss: -0.8538887999999998]2023-02-21 21:52:42,479 - build_posterior_wrapper took 0.006002 seconds\n",
      "2023-02-21 21:52:42,482 - TPE using 5/5 trials with best loss -0.853889\n",
      " 60%|████████████████████████████▊                   | 6/10 [00:40<00:27,  6.77s/trial, best loss: -0.8538887999999998]2023-02-21 21:52:49,180 - build_posterior_wrapper took 0.006001 seconds\n",
      "2023-02-21 21:52:49,182 - TPE using 6/6 trials with best loss -0.853889\n",
      " 70%|█████████████████████████████████▌              | 7/10 [00:47<00:20,  6.84s/trial, best loss: -0.8538887999999998]2023-02-21 21:52:56,170 - build_posterior_wrapper took 0.008002 seconds\n",
      "2023-02-21 21:52:56,172 - TPE using 7/7 trials with best loss -0.853889\n",
      " 80%|██████████████████████████████████████▍         | 8/10 [00:55<00:14,  7.27s/trial, best loss: -0.8538887999999998]2023-02-21 21:53:04,369 - build_posterior_wrapper took 0.008002 seconds\n",
      "2023-02-21 21:53:04,371 - TPE using 8/8 trials with best loss -0.853889\n"
     ]
    }
   ],
   "source": [
    "# run of the AutoML-based model generation\n",
    "pipeline = auto_model.fit(features=train_data_path, target='target')"
   ]
  },
  {
   "cell_type": "code",
   "execution_count": null,
   "metadata": {
    "pycharm": {
     "is_executing": true,
     "name": "#%%\n"
    }
   },
   "outputs": [],
   "source": [
    "prediction = auto_model.predict_proba(features=test_data_path)\n",
    "\n",
    "# Calculate metric\n",
    "roc_auc_auto = roc_auc_score(test_data.target, prediction)"
   ]
  },
  {
   "cell_type": "code",
   "execution_count": null,
   "metadata": {
    "pycharm": {
     "is_executing": true,
     "name": "#%%\n"
    }
   },
   "outputs": [],
   "source": [
    "# comparison with the manual pipeline\n",
    "\n",
    "print(f'Baseline {roc_auc_baseline:.2f}')\n",
    "print(f'AutoML solution {roc_auc_auto:.2f}')"
   ]
  },
  {
   "cell_type": "markdown",
   "metadata": {},
   "source": [
    "Thus, with just a few lines of code, we were able to launch the FEDOT framework and got a better result*.\n",
    "\n",
    "*Due to the stochastic nature of the algorithm, the metrics for the found solution may differ.\n",
    "\n",
    "If you want to learn more about FEDOT, you can use [this notebook](2_intro_to_fedot.ipynb)."
   ]
  },
  {
   "cell_type": "code",
   "execution_count": null,
   "metadata": {},
   "outputs": [],
   "source": []
  }
 ],
 "metadata": {
  "kernelspec": {
   "display_name": "Python 3 (ipykernel)",
   "language": "python",
   "name": "python3"
  },
  "language_info": {
   "codemirror_mode": {
    "name": "ipython",
    "version": 3
   },
   "file_extension": ".py",
   "mimetype": "text/x-python",
   "name": "python",
   "nbconvert_exporter": "python",
   "pygments_lexer": "ipython3",
   "version": "3.8.0"
  },
  "pycharm": {
   "stem_cell": {
    "cell_type": "raw",
    "metadata": {
     "collapsed": false
    },
    "source": []
   }
  }
 },
 "nbformat": 4,
 "nbformat_minor": 4
}
