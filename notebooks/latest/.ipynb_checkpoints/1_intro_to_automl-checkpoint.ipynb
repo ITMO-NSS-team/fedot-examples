{
 "cells": [
  {
   "cell_type": "markdown",
   "metadata": {
    "pycharm": {
     "name": "#%% md\n"
    }
   },
   "source": [
    "# AutoML solution vs single model\n",
    "#### FEDOT version = 0.6.1"
   ]
  },
  {
   "cell_type": "code",
   "execution_count": 1,
   "metadata": {},
   "outputs": [
    {
     "name": "stdout",
     "output_type": "stream",
     "text": [
      "Requirement already satisfied: fedot==0.6.1 in c:\\users\\valery\\appdata\\local\\programs\\python\\python38\\lib\\site-packages (0.6.1)\n",
      "Requirement already satisfied: lightgbm>=3.0.0 in c:\\users\\valery\\appdata\\local\\programs\\python\\python38\\lib\\site-packages (from fedot==0.6.1) (3.3.2)\n",
      "Requirement already satisfied: networkx!=2.7.*,!=2.8.1,!=2.8.2,!=2.8.3,>=2.4 in c:\\users\\valery\\appdata\\local\\programs\\python\\python38\\lib\\site-packages (from fedot==0.6.1) (2.8.6)\n",
      "Requirement already satisfied: statsmodels>=0.12.0 in c:\\users\\valery\\appdata\\local\\programs\\python\\python38\\lib\\site-packages (from fedot==0.6.1) (0.13.2)\n",
      "Requirement already satisfied: seaborn>=0.9.* in c:\\users\\valery\\appdata\\local\\programs\\python\\python38\\lib\\site-packages (from fedot==0.6.1) (0.12.0rc0)\n",
      "Requirement already satisfied: testfixtures>=6.18.* in c:\\users\\valery\\appdata\\local\\programs\\python\\python38\\lib\\site-packages (from fedot==0.6.1) (7.0.0)\n",
      "Requirement already satisfied: numpy>=1.16.* in c:\\users\\valery\\appdata\\local\\programs\\python\\python38\\lib\\site-packages (from fedot==0.6.1) (1.23.2)\n",
      "Requirement already satisfied: xgboost>=1.6.0 in c:\\users\\valery\\appdata\\local\\programs\\python\\python38\\lib\\site-packages (from fedot==0.6.1) (1.6.2)\n",
      "Requirement already satisfied: catboost>=0.25.* in c:\\users\\valery\\appdata\\local\\programs\\python\\python38\\lib\\site-packages (from fedot==0.6.1) (1.0.6)\n",
      "Requirement already satisfied: SALib>=1.3.* in c:\\users\\valery\\appdata\\local\\programs\\python\\python38\\lib\\site-packages (from fedot==0.6.1) (1.4.6b1)\n",
      "Requirement already satisfied: pyvis==0.2.1 in c:\\users\\valery\\appdata\\local\\programs\\python\\python38\\lib\\site-packages (from fedot==0.6.1) (0.2.1)\n",
      "Requirement already satisfied: pandas>=1.3.0 in c:\\users\\valery\\appdata\\local\\programs\\python\\python38\\lib\\site-packages (from fedot==0.6.1) (1.4.3)\n",
      "Requirement already satisfied: requests>=2.* in c:\\users\\valery\\appdata\\local\\programs\\python\\python38\\lib\\site-packages (from fedot==0.6.1) (2.28.1)\n",
      "Requirement already satisfied: pytest>=6.2.* in c:\\users\\valery\\appdata\\local\\programs\\python\\python38\\lib\\site-packages (from fedot==0.6.1) (7.1.2)\n",
      "Requirement already satisfied: scikit-optimize>=0.7.4 in c:\\users\\valery\\appdata\\local\\programs\\python\\python38\\lib\\site-packages (from fedot==0.6.1) (0.9.0)\n",
      "Requirement already satisfied: matplotlib>=3.3.1 in c:\\users\\valery\\appdata\\local\\programs\\python\\python38\\lib\\site-packages (from fedot==0.6.1) (3.5.3)\n",
      "Requirement already satisfied: ete3>=3.1.* in c:\\users\\valery\\appdata\\local\\programs\\python\\python38\\lib\\site-packages (from fedot==0.6.1) (3.1.2)\n",
      "Requirement already satisfied: psutil>=5.9.2 in c:\\users\\valery\\appdata\\local\\programs\\python\\python38\\lib\\site-packages (from fedot==0.6.1) (5.9.2)\n",
      "Requirement already satisfied: hyperopt==0.2.7 in c:\\users\\valery\\appdata\\local\\programs\\python\\python38\\lib\\site-packages (from fedot==0.6.1) (0.2.7)\n",
      "Requirement already satisfied: func-timeout==4.3.5 in c:\\users\\valery\\appdata\\local\\programs\\python\\python38\\lib\\site-packages (from fedot==0.6.1) (4.3.5)\n",
      "Requirement already satisfied: tqdm in c:\\users\\valery\\appdata\\local\\programs\\python\\python38\\lib\\site-packages (from fedot==0.6.1) (4.64.0)\n",
      "Requirement already satisfied: anytree>=2.8.* in c:\\users\\valery\\appdata\\local\\programs\\python\\python38\\lib\\site-packages (from fedot==0.6.1) (2.8.0)\n",
      "Requirement already satisfied: scikit-learn>=1.0.0 in c:\\users\\valery\\appdata\\local\\programs\\python\\python38\\lib\\site-packages (from fedot==0.6.1) (1.1.2)\n",
      "Requirement already satisfied: joblib>=0.17.* in c:\\users\\valery\\appdata\\local\\programs\\python\\python38\\lib\\site-packages (from fedot==0.6.1) (1.1.0)\n",
      "Requirement already satisfied: typing>=3.7.* in c:\\users\\valery\\appdata\\local\\programs\\python\\python38\\lib\\site-packages (from fedot==0.6.1) (3.7.4.3)\n",
      "Requirement already satisfied: scipy in c:\\users\\valery\\appdata\\local\\programs\\python\\python38\\lib\\site-packages (from hyperopt==0.2.7->fedot==0.6.1) (1.9.1)\n",
      "Requirement already satisfied: six in c:\\users\\valery\\appdata\\local\\programs\\python\\python38\\lib\\site-packages (from hyperopt==0.2.7->fedot==0.6.1) (1.16.0)\n",
      "Requirement already satisfied: py4j in c:\\users\\valery\\appdata\\local\\programs\\python\\python38\\lib\\site-packages (from hyperopt==0.2.7->fedot==0.6.1) (0.10.9.7)\n",
      "Requirement already satisfied: cloudpickle in c:\\users\\valery\\appdata\\local\\programs\\python\\python38\\lib\\site-packages (from hyperopt==0.2.7->fedot==0.6.1) (2.1.0)\n",
      "Requirement already satisfied: future in c:\\users\\valery\\appdata\\local\\programs\\python\\python38\\lib\\site-packages (from hyperopt==0.2.7->fedot==0.6.1) (0.18.2)\n",
      "Requirement already satisfied: ipython>=5.3.0 in c:\\users\\valery\\appdata\\local\\programs\\python\\python38\\lib\\site-packages (from pyvis==0.2.1->fedot==0.6.1) (8.4.0)\n",
      "Requirement already satisfied: jinja2>=2.9.6 in c:\\users\\valery\\appdata\\local\\programs\\python\\python38\\lib\\site-packages (from pyvis==0.2.1->fedot==0.6.1) (3.1.2)\n",
      "Requirement already satisfied: jsonpickle>=1.4.1 in c:\\users\\valery\\appdata\\local\\programs\\python\\python38\\lib\\site-packages (from pyvis==0.2.1->fedot==0.6.1) (2.2.0)\n",
      "Requirement already satisfied: graphviz in c:\\users\\valery\\appdata\\local\\programs\\python\\python38\\lib\\site-packages (from catboost>=0.25.*->fedot==0.6.1) (0.20)\n",
      "Requirement already satisfied: plotly in c:\\users\\valery\\appdata\\local\\programs\\python\\python38\\lib\\site-packages (from catboost>=0.25.*->fedot==0.6.1) (5.10.0)\n",
      "Requirement already satisfied: wheel in c:\\users\\valery\\appdata\\local\\programs\\python\\python38\\lib\\site-packages (from lightgbm>=3.0.0->fedot==0.6.1) (0.37.1)\n",
      "Requirement already satisfied: fonttools>=4.22.0 in c:\\users\\valery\\appdata\\local\\programs\\python\\python38\\lib\\site-packages (from matplotlib>=3.3.1->fedot==0.6.1) (4.37.1)\n",
      "Requirement already satisfied: pyparsing>=2.2.1 in c:\\users\\valery\\appdata\\local\\programs\\python\\python38\\lib\\site-packages (from matplotlib>=3.3.1->fedot==0.6.1) (3.0.9)\n",
      "Requirement already satisfied: cycler>=0.10 in c:\\users\\valery\\appdata\\local\\programs\\python\\python38\\lib\\site-packages (from matplotlib>=3.3.1->fedot==0.6.1) (0.11.0)\n",
      "Requirement already satisfied: pillow>=6.2.0 in c:\\users\\valery\\appdata\\local\\programs\\python\\python38\\lib\\site-packages (from matplotlib>=3.3.1->fedot==0.6.1) (9.2.0)\n",
      "Requirement already satisfied: kiwisolver>=1.0.1 in c:\\users\\valery\\appdata\\local\\programs\\python\\python38\\lib\\site-packages (from matplotlib>=3.3.1->fedot==0.6.1) (1.4.4)\n",
      "Requirement already satisfied: packaging>=20.0 in c:\\users\\valery\\appdata\\local\\programs\\python\\python38\\lib\\site-packages (from matplotlib>=3.3.1->fedot==0.6.1) (21.3)\n",
      "Requirement already satisfied: python-dateutil>=2.7 in c:\\users\\valery\\appdata\\local\\programs\\python\\python38\\lib\\site-packages (from matplotlib>=3.3.1->fedot==0.6.1) (2.8.2)\n",
      "Requirement already satisfied: pytz>=2020.1 in c:\\users\\valery\\appdata\\local\\programs\\python\\python38\\lib\\site-packages (from pandas>=1.3.0->fedot==0.6.1) (2022.2.1)\n",
      "Requirement already satisfied: colorama in c:\\users\\valery\\appdata\\local\\programs\\python\\python38\\lib\\site-packages (from pytest>=6.2.*->fedot==0.6.1) (0.4.5)\n",
      "Requirement already satisfied: atomicwrites>=1.0 in c:\\users\\valery\\appdata\\local\\programs\\python\\python38\\lib\\site-packages (from pytest>=6.2.*->fedot==0.6.1) (1.4.1)\n",
      "Requirement already satisfied: tomli>=1.0.0 in c:\\users\\valery\\appdata\\local\\programs\\python\\python38\\lib\\site-packages (from pytest>=6.2.*->fedot==0.6.1) (2.0.1)\n",
      "Requirement already satisfied: attrs>=19.2.0 in c:\\users\\valery\\appdata\\local\\programs\\python\\python38\\lib\\site-packages (from pytest>=6.2.*->fedot==0.6.1) (22.1.0)\n",
      "Requirement already satisfied: iniconfig in c:\\users\\valery\\appdata\\local\\programs\\python\\python38\\lib\\site-packages (from pytest>=6.2.*->fedot==0.6.1) (1.1.1)\n",
      "Requirement already satisfied: pluggy<2.0,>=0.12 in c:\\users\\valery\\appdata\\local\\programs\\python\\python38\\lib\\site-packages (from pytest>=6.2.*->fedot==0.6.1) (1.0.0)\n",
      "Requirement already satisfied: py>=1.8.2 in c:\\users\\valery\\appdata\\local\\programs\\python\\python38\\lib\\site-packages (from pytest>=6.2.*->fedot==0.6.1) (1.11.0)\n",
      "Requirement already satisfied: idna<4,>=2.5 in c:\\users\\valery\\appdata\\local\\programs\\python\\python38\\lib\\site-packages (from requests>=2.*->fedot==0.6.1) (3.3)\n",
      "Requirement already satisfied: charset-normalizer<3,>=2 in c:\\users\\valery\\appdata\\local\\programs\\python\\python38\\lib\\site-packages (from requests>=2.*->fedot==0.6.1) (2.1.1)\n",
      "Requirement already satisfied: urllib3<1.27,>=1.21.1 in c:\\users\\valery\\appdata\\local\\programs\\python\\python38\\lib\\site-packages (from requests>=2.*->fedot==0.6.1) (1.26.12)\n",
      "Requirement already satisfied: certifi>=2017.4.17 in c:\\users\\valery\\appdata\\local\\programs\\python\\python38\\lib\\site-packages (from requests>=2.*->fedot==0.6.1) (2022.6.15)\n",
      "Requirement already satisfied: setuptools in c:\\users\\valery\\appdata\\local\\programs\\python\\python38\\lib\\site-packages (from SALib>=1.3.*->fedot==0.6.1) (65.3.0)\n",
      "Requirement already satisfied: pathos in c:\\users\\valery\\appdata\\local\\programs\\python\\python38\\lib\\site-packages (from SALib>=1.3.*->fedot==0.6.1) (0.2.9)\n",
      "Requirement already satisfied: threadpoolctl>=2.0.0 in c:\\users\\valery\\appdata\\local\\programs\\python\\python38\\lib\\site-packages (from scikit-learn>=1.0.0->fedot==0.6.1) (3.1.0)\n",
      "Requirement already satisfied: pyaml>=16.9 in c:\\users\\valery\\appdata\\local\\programs\\python\\python38\\lib\\site-packages (from scikit-optimize>=0.7.4->fedot==0.6.1) (21.10.1)\n",
      "Requirement already satisfied: patsy>=0.5.2 in c:\\users\\valery\\appdata\\local\\programs\\python\\python38\\lib\\site-packages (from statsmodels>=0.12.0->fedot==0.6.1) (0.5.2)\n",
      "Requirement already satisfied: pickleshare in c:\\users\\valery\\appdata\\local\\programs\\python\\python38\\lib\\site-packages (from ipython>=5.3.0->pyvis==0.2.1->fedot==0.6.1) (0.7.5)\n",
      "Requirement already satisfied: jedi>=0.16 in c:\\users\\valery\\appdata\\local\\programs\\python\\python38\\lib\\site-packages (from ipython>=5.3.0->pyvis==0.2.1->fedot==0.6.1) (0.18.1)\n",
      "Requirement already satisfied: pygments>=2.4.0 in c:\\users\\valery\\appdata\\local\\programs\\python\\python38\\lib\\site-packages (from ipython>=5.3.0->pyvis==0.2.1->fedot==0.6.1) (2.13.0)\n",
      "Requirement already satisfied: prompt-toolkit!=3.0.0,!=3.0.1,<3.1.0,>=2.0.0 in c:\\users\\valery\\appdata\\local\\programs\\python\\python38\\lib\\site-packages (from ipython>=5.3.0->pyvis==0.2.1->fedot==0.6.1) (3.0.30)\n",
      "Requirement already satisfied: decorator in c:\\users\\valery\\appdata\\local\\programs\\python\\python38\\lib\\site-packages (from ipython>=5.3.0->pyvis==0.2.1->fedot==0.6.1) (5.1.1)\n",
      "Requirement already satisfied: backcall in c:\\users\\valery\\appdata\\local\\programs\\python\\python38\\lib\\site-packages (from ipython>=5.3.0->pyvis==0.2.1->fedot==0.6.1) (0.2.0)\n",
      "Requirement already satisfied: traitlets>=5 in c:\\users\\valery\\appdata\\local\\programs\\python\\python38\\lib\\site-packages (from ipython>=5.3.0->pyvis==0.2.1->fedot==0.6.1) (5.3.0)\n",
      "Requirement already satisfied: stack-data in c:\\users\\valery\\appdata\\local\\programs\\python\\python38\\lib\\site-packages (from ipython>=5.3.0->pyvis==0.2.1->fedot==0.6.1) (0.4.0)\n",
      "Requirement already satisfied: matplotlib-inline in c:\\users\\valery\\appdata\\local\\programs\\python\\python38\\lib\\site-packages (from ipython>=5.3.0->pyvis==0.2.1->fedot==0.6.1) (0.1.6)\n",
      "Requirement already satisfied: MarkupSafe>=2.0 in c:\\users\\valery\\appdata\\local\\programs\\python\\python38\\lib\\site-packages (from jinja2>=2.9.6->pyvis==0.2.1->fedot==0.6.1) (2.1.1)\n",
      "Requirement already satisfied: PyYAML in c:\\users\\valery\\appdata\\local\\programs\\python\\python38\\lib\\site-packages (from pyaml>=16.9->scikit-optimize>=0.7.4->fedot==0.6.1) (6.0)\n",
      "Requirement already satisfied: multiprocess>=0.70.13 in c:\\users\\valery\\appdata\\local\\programs\\python\\python38\\lib\\site-packages (from pathos->SALib>=1.3.*->fedot==0.6.1) (0.70.13)\n",
      "Requirement already satisfied: ppft>=1.7.6.5 in c:\\users\\valery\\appdata\\local\\programs\\python\\python38\\lib\\site-packages (from pathos->SALib>=1.3.*->fedot==0.6.1) (1.7.6.5)\n",
      "Requirement already satisfied: pox>=0.3.1 in c:\\users\\valery\\appdata\\local\\programs\\python\\python38\\lib\\site-packages (from pathos->SALib>=1.3.*->fedot==0.6.1) (0.3.1)\n",
      "Requirement already satisfied: dill>=0.3.5.1 in c:\\users\\valery\\appdata\\local\\programs\\python\\python38\\lib\\site-packages (from pathos->SALib>=1.3.*->fedot==0.6.1) (0.3.5.1)\n",
      "Requirement already satisfied: tenacity>=6.2.0 in c:\\users\\valery\\appdata\\local\\programs\\python\\python38\\lib\\site-packages (from plotly->catboost>=0.25.*->fedot==0.6.1) (8.0.1)\n",
      "Requirement already satisfied: parso<0.9.0,>=0.8.0 in c:\\users\\valery\\appdata\\local\\programs\\python\\python38\\lib\\site-packages (from jedi>=0.16->ipython>=5.3.0->pyvis==0.2.1->fedot==0.6.1) (0.8.3)\n",
      "Requirement already satisfied: wcwidth in c:\\users\\valery\\appdata\\local\\programs\\python\\python38\\lib\\site-packages (from prompt-toolkit!=3.0.0,!=3.0.1,<3.1.0,>=2.0.0->ipython>=5.3.0->pyvis==0.2.1->fedot==0.6.1) (0.2.5)\n",
      "Requirement already satisfied: pure-eval in c:\\users\\valery\\appdata\\local\\programs\\python\\python38\\lib\\site-packages (from stack-data->ipython>=5.3.0->pyvis==0.2.1->fedot==0.6.1) (0.2.2)\n",
      "Requirement already satisfied: executing in c:\\users\\valery\\appdata\\local\\programs\\python\\python38\\lib\\site-packages (from stack-data->ipython>=5.3.0->pyvis==0.2.1->fedot==0.6.1) (0.10.0)\n",
      "Requirement already satisfied: asttokens in c:\\users\\valery\\appdata\\local\\programs\\python\\python38\\lib\\site-packages (from stack-data->ipython>=5.3.0->pyvis==0.2.1->fedot==0.6.1) (2.0.8)\n",
      "Note: you may need to restart the kernel to use updated packages.\n"
     ]
    },
    {
     "name": "stderr",
     "output_type": "stream",
     "text": [
      "\n",
      "[notice] A new release of pip available: 22.2.2 -> 22.3.1\n",
      "[notice] To update, run: python.exe -m pip install --upgrade pip\n"
     ]
    }
   ],
   "source": [
    "pip install fedot==0.6.1"
   ]
  },
  {
   "cell_type": "markdown",
   "metadata": {},
   "source": [
    "Below is an example of running an Auto ML solution for a classification problem.\n",
    "## Description of the task and dataset"
   ]
  },
  {
   "cell_type": "code",
   "execution_count": 2,
   "metadata": {
    "pycharm": {
     "is_executing": false
    }
   },
   "outputs": [
    {
     "data": {
      "text/html": [
       "<div>\n",
       "<style scoped>\n",
       "    .dataframe tbody tr th:only-of-type {\n",
       "        vertical-align: middle;\n",
       "    }\n",
       "\n",
       "    .dataframe tbody tr th {\n",
       "        vertical-align: top;\n",
       "    }\n",
       "\n",
       "    .dataframe thead th {\n",
       "        text-align: right;\n",
       "    }\n",
       "</style>\n",
       "<table border=\"1\" class=\"dataframe\">\n",
       "  <thead>\n",
       "    <tr style=\"text-align: right;\">\n",
       "      <th></th>\n",
       "      <th>ID</th>\n",
       "      <th>RevolvingUtilizationOfUnsecuredLines</th>\n",
       "      <th>age</th>\n",
       "      <th>NumberOfTime30.59DaysPastDueNotWorse</th>\n",
       "      <th>DebtRatio</th>\n",
       "      <th>MonthlyIncome</th>\n",
       "      <th>NumberOfOpenCreditLinesAndLoans</th>\n",
       "      <th>NumberOfTimes90DaysLate</th>\n",
       "      <th>NumberRealEstateLoansOrLines</th>\n",
       "      <th>NumberOfTime60.89DaysPastDueNotWorse</th>\n",
       "      <th>NumberOfDependents</th>\n",
       "      <th>target</th>\n",
       "    </tr>\n",
       "  </thead>\n",
       "  <tbody>\n",
       "    <tr>\n",
       "      <th>0</th>\n",
       "      <td>0</td>\n",
       "      <td>0.766127</td>\n",
       "      <td>45</td>\n",
       "      <td>2</td>\n",
       "      <td>0.802982</td>\n",
       "      <td>9120.0</td>\n",
       "      <td>13</td>\n",
       "      <td>0</td>\n",
       "      <td>6</td>\n",
       "      <td>0</td>\n",
       "      <td>2.0</td>\n",
       "      <td>1</td>\n",
       "    </tr>\n",
       "    <tr>\n",
       "      <th>1</th>\n",
       "      <td>1</td>\n",
       "      <td>0.957151</td>\n",
       "      <td>40</td>\n",
       "      <td>0</td>\n",
       "      <td>0.121876</td>\n",
       "      <td>2600.0</td>\n",
       "      <td>4</td>\n",
       "      <td>0</td>\n",
       "      <td>0</td>\n",
       "      <td>0</td>\n",
       "      <td>1.0</td>\n",
       "      <td>0</td>\n",
       "    </tr>\n",
       "    <tr>\n",
       "      <th>2</th>\n",
       "      <td>2</td>\n",
       "      <td>0.658180</td>\n",
       "      <td>38</td>\n",
       "      <td>1</td>\n",
       "      <td>0.085113</td>\n",
       "      <td>3042.0</td>\n",
       "      <td>2</td>\n",
       "      <td>1</td>\n",
       "      <td>0</td>\n",
       "      <td>0</td>\n",
       "      <td>0.0</td>\n",
       "      <td>0</td>\n",
       "    </tr>\n",
       "    <tr>\n",
       "      <th>3</th>\n",
       "      <td>3</td>\n",
       "      <td>0.233810</td>\n",
       "      <td>30</td>\n",
       "      <td>0</td>\n",
       "      <td>0.036050</td>\n",
       "      <td>3300.0</td>\n",
       "      <td>5</td>\n",
       "      <td>0</td>\n",
       "      <td>0</td>\n",
       "      <td>0</td>\n",
       "      <td>0.0</td>\n",
       "      <td>0</td>\n",
       "    </tr>\n",
       "    <tr>\n",
       "      <th>4</th>\n",
       "      <td>4</td>\n",
       "      <td>0.907239</td>\n",
       "      <td>49</td>\n",
       "      <td>1</td>\n",
       "      <td>0.024926</td>\n",
       "      <td>63588.0</td>\n",
       "      <td>7</td>\n",
       "      <td>0</td>\n",
       "      <td>1</td>\n",
       "      <td>0</td>\n",
       "      <td>0.0</td>\n",
       "      <td>0</td>\n",
       "    </tr>\n",
       "  </tbody>\n",
       "</table>\n",
       "</div>"
      ],
      "text/plain": [
       "   ID  RevolvingUtilizationOfUnsecuredLines  age  \\\n",
       "0   0                              0.766127   45   \n",
       "1   1                              0.957151   40   \n",
       "2   2                              0.658180   38   \n",
       "3   3                              0.233810   30   \n",
       "4   4                              0.907239   49   \n",
       "\n",
       "   NumberOfTime30.59DaysPastDueNotWorse  DebtRatio  MonthlyIncome  \\\n",
       "0                                     2   0.802982         9120.0   \n",
       "1                                     0   0.121876         2600.0   \n",
       "2                                     1   0.085113         3042.0   \n",
       "3                                     0   0.036050         3300.0   \n",
       "4                                     1   0.024926        63588.0   \n",
       "\n",
       "   NumberOfOpenCreditLinesAndLoans  NumberOfTimes90DaysLate  \\\n",
       "0                               13                        0   \n",
       "1                                4                        0   \n",
       "2                                2                        1   \n",
       "3                                5                        0   \n",
       "4                                7                        0   \n",
       "\n",
       "   NumberRealEstateLoansOrLines  NumberOfTime60.89DaysPastDueNotWorse  \\\n",
       "0                             6                                     0   \n",
       "1                             0                                     0   \n",
       "2                             0                                     0   \n",
       "3                             0                                     0   \n",
       "4                             1                                     0   \n",
       "\n",
       "   NumberOfDependents  target  \n",
       "0                 2.0       1  \n",
       "1                 1.0       0  \n",
       "2                 0.0       0  \n",
       "3                 0.0       0  \n",
       "4                 0.0       0  "
      ]
     },
     "execution_count": 2,
     "metadata": {},
     "output_type": "execute_result"
    }
   ],
   "source": [
    "import pandas as pd\n",
    "import warnings\n",
    "warnings.filterwarnings(\"ignore\")\n",
    "\n",
    "import logging\n",
    "logging.raiseExceptions = False\n",
    "\n",
    "# Input data from csv files \n",
    "train_data_path = '../data/scoring_train.csv'\n",
    "test_data_path = '../data/scoring_test.csv'\n",
    "df = pd.read_csv(train_data_path)\n",
    "df.head(5)"
   ]
  },
  {
   "cell_type": "markdown",
   "metadata": {},
   "source": [
    "## Baseline model\n",
    "\n",
    "Let's use the api features to solve the classification problem. First, we create a pipeline with a single model \"xgboost\". \n",
    "To do this, we will substitute the appropriate name in the predefined_model field.\n",
    "\n",
    "Attention!\n",
    "\"predefined_model\" - is not an initial assumption for the AutoML algorithm. It's just a single model without AutoML part"
   ]
  },
  {
   "cell_type": "code",
   "execution_count": 3,
   "metadata": {
    "pycharm": {
     "is_executing": false,
     "name": "#%%\n"
    }
   },
   "outputs": [
    {
     "name": "stdout",
     "output_type": "stream",
     "text": [
      "2022-12-16 21:46:56,717 - FEDOT logger - Final pipeline: {'depth': 1, 'length': 1, 'nodes': [xgboost]}\n",
      "xgboost - {'eval_metric': 'mlogloss', 'nthread': -1}\n"
     ]
    }
   ],
   "source": [
    "from fedot.api.main import Fedot\n",
    "\n",
    "# task selection, initialisation of the framework\n",
    "baseline_model = Fedot(problem='classification')\n",
    "\n",
    "# fit model without optimisation - single XGBoost node is used \n",
    "xgb_pipeline = baseline_model.fit(features=train_data_path, target='target', predefined_model='xgboost')\n",
    "\n",
    "# evaluate the prediction with test data\n",
    "xgb_predict = baseline_model.predict_proba(features=test_data_path)"
   ]
  },
  {
   "cell_type": "code",
   "execution_count": 4,
   "metadata": {},
   "outputs": [
    {
     "data": {
      "text/plain": [
       "0.8332360242279814"
      ]
     },
     "execution_count": 4,
     "metadata": {},
     "output_type": "execute_result"
    }
   ],
   "source": [
    "from fedot.core.data.data import InputData\n",
    "from sklearn.metrics import roc_auc_score\n",
    "\n",
    "# Read data from csv file as InputData\n",
    "test_data = InputData.from_csv(test_data_path)\n",
    "roc_auc_baseline = roc_auc_score(test_data.target, xgb_predict)\n",
    "roc_auc_baseline"
   ]
  },
  {
   "cell_type": "markdown",
   "metadata": {
    "pycharm": {
     "name": "#%% md\n"
    },
    "tags": []
   },
   "source": [
    "## FEDOT AutoML for classification\n",
    "\n",
    "We can identify the model using an evolutionary algorithm built into the core of the FEDOT framework.\n",
    "\n",
    "Here are some parameters that you can specify when initializing a class:\n",
    "* problem - the name of modelling problem to solve:\n",
    "        - classification\n",
    "        - regression\n",
    "        - ts_forecasting\n",
    "        - clustering\n",
    "* seed - value for fixed random seed\n",
    "* logging_level - level of the output detailing\n",
    "        - 50 -> critical\n",
    "        - 40 -> error\n",
    "        - 30 -> warning\n",
    "        - 20 -> info\n",
    "        - 10 -> debug\n",
    "        - 0 -> nonset\n",
    "* timeout - time for model design (in minutes)"
   ]
  },
  {
   "cell_type": "code",
   "execution_count": 5,
   "metadata": {
    "pycharm": {
     "is_executing": false,
     "name": "#%%\n"
    }
   },
   "outputs": [],
   "source": [
    "# new instance to be used as AutoML tool\n",
    "auto_model = Fedot(problem='classification', seed=42, logging_level=10, timeout=5)"
   ]
  },
  {
   "cell_type": "code",
   "execution_count": 6,
   "metadata": {
    "pycharm": {
     "is_executing": true,
     "name": "#%%\n"
    }
   },
   "outputs": [
    {
     "name": "stdout",
     "output_type": "stream",
     "text": [
      "2022-12-16 21:46:57,546 - AssumptionsHandler - Initial pipeline fitting started\n",
      "2022-12-16 21:46:57,843 - SecondaryNode - Trying to fit secondary node with operation: rf\n",
      "2022-12-16 21:46:57,844 - SecondaryNode - Fit all parent nodes in secondary node with operation: rf\n",
      "2022-12-16 21:46:59,804 - ApiComposer - Initial pipeline was fitted in 2.3 sec.\n",
      "2022-12-16 21:46:59,805 - AssumptionsHandler - Preset was changed to best_quality\n",
      "2022-12-16 21:46:59,809 - ApiComposer - AutoML configured. Parameters tuning: True. Time limit: 5 min. Set of candidate models: ['bernb', 'dt', 'knn', 'lgbm', 'logit', 'mlp', 'qda', 'rf', 'scaling', 'normalization', 'pca', 'fast_ica', 'poly_features', 'isolation_forest_class', 'resample'].\n",
      "2022-12-16 21:46:59,813 - ApiComposer - Pipeline composition started.\n",
      "2022-12-16 21:46:59,823 - DataSourceSplitter - K-folds cross validation is applied.\n"
     ]
    },
    {
     "name": "stderr",
     "output_type": "stream",
     "text": [
      "\r",
      "Generations:   0%|                                                                          | 1/10000 [00:00<?, ?gen/s]"
     ]
    },
    {
     "name": "stdout",
     "output_type": "stream",
     "text": [
      "2022-12-16 21:46:59,827 - MultiprocessingDispatcher - Number of used CPU's: 1\n",
      "2022-12-16 21:47:11,774 - EvoGraphOptimizer - Generation num: 1\n",
      "2022-12-16 21:47:11,776 - EvoGraphOptimizer - Best individuals: HallOfFame archive fitness (1): ['<ClassificationMetricsEnum.ROCAUC_penalty=-0.826 ComplexityMetricsEnum.node_num=0.200>']\n",
      "2022-12-16 21:47:12,408 - MultiprocessingDispatcher - Number of used CPU's: 1\n",
      "2022-12-16 21:50:01,414 - EvoGraphOptimizer - Generation num: 2\n",
      "2022-12-16 21:50:01,415 - EvoGraphOptimizer - Best individuals: HallOfFame archive fitness (1): ['<ClassificationMetricsEnum.ROCAUC_penalty=-0.850 ComplexityMetricsEnum.node_num=0.200>']\n",
      "2022-12-16 21:50:01,416 - GroupedCondition - Optimisation stopped: Time limit is reached\n"
     ]
    },
    {
     "name": "stderr",
     "output_type": "stream",
     "text": [
      "\r",
      "Generations:   0%|                                                                          | 1/10000 [03:01<?, ?gen/s]"
     ]
    },
    {
     "name": "stdout",
     "output_type": "stream",
     "text": [
      "2022-12-16 21:50:01,417 - OptimisationTimer - Composition time: 3.027 min\n",
      "2022-12-16 21:50:01,417 - OptimisationTimer - Algorithm was terminated due to processing time limit\n",
      "2022-12-16 21:50:01,418 - EvoGraphOptimizer - Generation num: 3\n",
      "2022-12-16 21:50:01,419 - EvoGraphOptimizer - Best individuals: HallOfFame archive fitness (1): ['<ClassificationMetricsEnum.ROCAUC_penalty=-0.850 ComplexityMetricsEnum.node_num=0.200>']\n",
      "2022-12-16 21:50:01,420 - EvoGraphOptimizer - no improvements for 1 iterations\n",
      "2022-12-16 21:50:01,421 - EvoGraphOptimizer - spent time: 3.0 min\n",
      "2022-12-16 21:50:01,422 - GPComposer - GP composition finished\n",
      "2022-12-16 21:50:01,424 - DataSourceSplitter - K-folds cross validation is applied.\n",
      "2022-12-16 21:50:01,425 - ApiComposer - Hyperparameters tuning started with 2 min. timeout\n",
      "2022-12-16 21:50:01,427 - PipelineTuner - Hyperparameters optimization start\n"
     ]
    },
    {
     "name": "stderr",
     "output_type": "stream",
     "text": [
      "\n"
     ]
    },
    {
     "name": "stdout",
     "output_type": "stream",
     "text": [
      "2022-12-16 21:50:12,697 - PipelineTuner - Initial pipeline: {'depth': 2, 'length': 2, 'nodes': [rf, scaling]}\n",
      "rf - {'n_jobs': 1, 'criterion': 'gini', 'max_features': 0.23913682756197374, 'min_samples_split': 7, 'min_samples_leaf': 7, 'bootstrap': True}\n",
      "scaling - {} \n",
      "Initial metric: 0.850\n",
      "  0%|                                                                            | 0/1 [00:00<?, ?trial/s, best loss=?]2022-12-16 21:50:12,702 - build_posterior_wrapper took 0.001001 seconds\n",
      "2022-12-16 21:50:12,703 - TPE using 0 trials\n",
      "100%|██████████████████████████████████████████████████████████| 1/1 [00:11<00:00, 11.29s/trial, best loss: -0.8504956]\n",
      "  0%|                                                                       | 1/100000 [00:00<?, ?trial/s, best loss=?]2022-12-16 21:50:23,993 - build_posterior_wrapper took 0.002007 seconds\n",
      "2022-12-16 21:50:23,994 - TPE using 1/1 trials with best loss -0.850496\n",
      "  0%|                                                 | 2/100000 [00:14<409:20:38, 14.74s/trial, best loss: -0.8504956]2022-12-16 21:50:38,730 - build_posterior_wrapper took 0.001000 seconds\n",
      "2022-12-16 21:50:38,731 - TPE using 2/2 trials with best loss -0.850496\n",
      "  0%|                                                 | 3/100000 [00:50<760:38:09, 27.38s/trial, best loss: -0.8504956]2022-12-16 21:51:14,968 - build_posterior_wrapper took 0.002015 seconds\n",
      "2022-12-16 21:51:14,969 - TPE using 3/3 trials with best loss -0.850496\n",
      "  0%|                                                 | 4/100000 [01:30<910:01:16, 32.76s/trial, best loss: -0.8504956]2022-12-16 21:51:54,130 - build_posterior_wrapper took 0.002000 seconds\n",
      "2022-12-16 21:51:54,131 - TPE using 4/4 trials with best loss -0.850496\n",
      "  0%|                                                 | 5/100000 [01:45<714:39:38, 25.73s/trial, best loss: -0.8504956]2022-12-16 21:52:09,078 - build_posterior_wrapper took 0.001999 seconds\n",
      "2022-12-16 21:52:09,078 - TPE using 5/5 trials with best loss -0.850496\n",
      "  0%|                                                 | 6/100000 [02:08<714:49:19, 25.74s/trial, best loss: -0.8504956]\n",
      "2022-12-16 21:52:44,163 - PipelineTuner - Hyperparameters optimization finished\n",
      "2022-12-16 21:52:44,163 - PipelineTuner - Return tuned pipeline due to the fact that obtained metric 0.850 equal or better than initial (+ 5% deviation) 0.808\n",
      "2022-12-16 21:52:44,164 - PipelineTuner - Final pipeline: {'depth': 2, 'length': 2, 'nodes': [rf, scaling]}\n",
      "rf - {'n_jobs': 1, 'bootstrap': True, 'criterion': 'gini', 'max_features': 0.23913682756197374, 'min_samples_leaf': 7, 'min_samples_split': 7}\n",
      "scaling - {}\n",
      "2022-12-16 21:52:44,165 - PipelineTuner - Final metric: 0.850\n",
      "2022-12-16 21:52:44,166 - ApiComposer - Hyperparameters tuning finished\n",
      "2022-12-16 21:52:44,243 - ApiComposer - Model generation finished\n",
      "2022-12-16 21:52:46,872 - FEDOT logger - Final pipeline was fitted\n",
      "2022-12-16 21:52:46,873 - FEDOT logger - Final pipeline: {'depth': 2, 'length': 2, 'nodes': [rf, scaling]}\n",
      "rf - {'n_jobs': 1, 'bootstrap': True, 'criterion': 'gini', 'max_features': 0.23913682756197374, 'min_samples_leaf': 7, 'min_samples_split': 7}\n",
      "scaling - {}\n"
     ]
    }
   ],
   "source": [
    "# run of the AutoML-based model generation\n",
    "pipeline = auto_model.fit(features=train_data_path, target='target')"
   ]
  },
  {
   "cell_type": "code",
   "execution_count": 9,
   "metadata": {
    "pycharm": {
     "is_executing": true,
     "name": "#%%\n"
    }
   },
   "outputs": [],
   "source": [
    "prediction = auto_model.predict_proba(features=test_data_path)\n",
    "\n",
    "# Calculate metric\n",
    "roc_auc_auto = roc_auc_score(test_data.target, prediction)"
   ]
  },
  {
   "cell_type": "code",
   "execution_count": 10,
   "metadata": {
    "pycharm": {
     "is_executing": true,
     "name": "#%%\n"
    }
   },
   "outputs": [
    {
     "name": "stdout",
     "output_type": "stream",
     "text": [
      "Baseline 0.83\n",
      "AutoML solution 0.85\n"
     ]
    }
   ],
   "source": [
    "# comparison with the manual pipeline\n",
    "\n",
    "print(f'Baseline {roc_auc_baseline:.2f}')\n",
    "print(f'AutoML solution {roc_auc_auto:.2f}')"
   ]
  },
  {
   "cell_type": "markdown",
   "metadata": {},
   "source": [
    "Thus, with just a few lines of code, we were able to launch the FEDOT framework and got a better result*.\n",
    "\n",
    "*Due to the stochastic nature of the algorithm, the metrics for the found solution may differ.\n",
    "\n",
    "If you want to learn more about FEDOT, you can use [this notebook](2_intro_to_fedot.ipynb)."
   ]
  },
  {
   "cell_type": "code",
   "execution_count": null,
   "metadata": {},
   "outputs": [],
   "source": []
  }
 ],
 "metadata": {
  "kernelspec": {
   "display_name": "Python 3 (ipykernel)",
   "language": "python",
   "name": "python3"
  },
  "language_info": {
   "codemirror_mode": {
    "name": "ipython",
    "version": 3
   },
   "file_extension": ".py",
   "mimetype": "text/x-python",
   "name": "python",
   "nbconvert_exporter": "python",
   "pygments_lexer": "ipython3",
   "version": "3.8.0"
  },
  "pycharm": {
   "stem_cell": {
    "cell_type": "raw",
    "metadata": {
     "collapsed": false
    },
    "source": []
   }
  }
 },
 "nbformat": 4,
 "nbformat_minor": 4
}
