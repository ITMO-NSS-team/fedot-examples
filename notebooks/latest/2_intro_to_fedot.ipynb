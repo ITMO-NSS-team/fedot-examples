{
 "cells": [
  {
   "cell_type": "markdown",
   "id": "72539c3b",
   "metadata": {},
   "source": [
    "# FEDOT framework\n",
    "#### FEDOT version = 0.7.5"
   ]
  },
  {
   "cell_type": "code",
   "id": "fb0a10ac-5fcc-4927-bee7-f9c2bf873578",
   "metadata": {},
   "source": "!pip install fedot==0.7.5",
   "outputs": [],
   "execution_count": null
  },
  {
   "cell_type": "code",
   "id": "989135ed",
   "metadata": {},
   "source": [
    "import logging\n",
    "# set DEBUG for everything\n",
    "logging.basicConfig(level=logging.DEBUG)\n",
    "logger = logging.getLogger('matplotlib')\n",
    "# set WARNING for Matplotlib\n",
    "logger.setLevel(logging.WARNING)"
   ],
   "outputs": [],
   "execution_count": null
  },
  {
   "cell_type": "markdown",
   "id": "8902183f-da53-4747-91bb-83d58b07a640",
   "metadata": {},
   "source": [
    "Below is a description of the FEDOT framework and its main functions, which can be used to solve various ML tasks, namely:\n",
    "\n",
    "* Regression\n",
    "* Classification\n",
    "* Time series forecasting\n",
    "* Clustering\n",
    "\n",
    "FEDOT can construct complex composite models (consisting of multiple machine learning models and preprocessing operations) based on an evolutionary algorithm. Thus, it is possible to create pipelines for solving various tasks.\n",
    "\n",
    "The structure of the FEDOT framework can be seen in the figure below:\n",
    "\n",
    "<img src=\"../jupyter_media/fedot_structure/fedot_structure_04.png\" width=\"800\"/> \n",
    "\n",
    "Figure 1. The structure of the FEDOT framework. The main modules of the library are shown.\n",
    "\n",
    "As you can see from the picture there are two ways to start FEDOT:\n",
    "1) API - allows you to run framework models in a few lines of code;\n",
    "2) Low-level methods from the core - you can call methods by accessing the core directly. In this case, you will have to write more code, but more functionality opens up.\n",
    "\n",
    "## Composite models\n",
    "\n",
    "FEDOT has following abstractions:\n",
    "* Operation - is a machine learning model or preprocessing operation or statistical models;\n",
    "* Node - is a container in which the operation is placed. A single node can contain only one operation;\n",
    "* Pipeline - is directed acyclic graph-like structure that contains several connected nodes. The analogue can be a computation graph from tensorflow, or simple workflow (from Apache Airflow, for instance). Pipelines are complex composite models. A single pipeline can consist of multiple nodes, or a single node.\n",
    "\n",
    "<img src=\"../jupyter_media/fedot_structure/operation_node_pipeline.png\" width=\"800\"/> \n",
    "\n",
    "## Generate synthetic dataset for classification task"
   ]
  },
  {
   "cell_type": "code",
   "id": "d244bf1d",
   "metadata": {},
   "source": [
    "import logging\n",
    "logging.raiseExceptions = False\n",
    "\n",
    "from fedot.utilities.synth_dataset_generator import classification_dataset\n",
    "from sklearn.metrics import roc_auc_score as roc_auc\n",
    "\n",
    "# Generate numpy arrays with features and target\n",
    "features_options = {'informative': 1, 'redundant': 0,\n",
    "                    'repeated': 0, 'clusters_per_class': 1}\n",
    "x_data, y_data = classification_dataset(samples_amount=250,\n",
    "                                        features_amount=3,\n",
    "                                        classes_amount=2,\n",
    "                                        features_options=features_options)\n",
    "\n",
    "print(f'Features table shape: {x_data.shape}, type: {type(x_data)}')\n",
    "print(f'Target vector: {y_data.shape}, type: {type(y_data)}')"
   ],
   "outputs": [],
   "execution_count": null
  },
  {
   "cell_type": "markdown",
   "id": "0f7942f9-d7d7-4267-b806-4e0160e6737e",
   "metadata": {},
   "source": [
    "Prepare the necessary imports"
   ]
  },
  {
   "cell_type": "code",
   "id": "95c7cef0-c56a-41df-969e-672387eee27f",
   "metadata": {},
   "source": [
    "import numpy as np\n",
    "\n",
    "# Create pipelines\n",
    "from fedot.core.pipelines.pipeline import Pipeline\n",
    "from fedot.core.pipelines.node import PrimaryNode, SecondaryNode\n",
    "\n",
    "# Tasks to solve\n",
    "from fedot.core.repository.tasks import Task, TaskTypesEnum\n",
    "\n",
    "# Dataclass for wrapping arrays into it\n",
    "from fedot.core.data.data import InputData\n",
    "\n",
    "# Type of the input data\n",
    "from fedot.core.repository.dataset_types import DataTypesEnum\n",
    "\n",
    "# Define classification task\n",
    "task = Task(TaskTypesEnum.classification)\n",
    "\n",
    "# Prepare data to train the model\n",
    "input_data = InputData(idx=np.arange(0, len(x_data)), features=x_data,\n",
    "                       target=y_data, task=task,\n",
    "                       data_type=DataTypesEnum.table)"
   ],
   "outputs": [],
   "execution_count": null
  },
  {
   "cell_type": "markdown",
   "id": "65908add-2495-4583-b4d0-6b5d932f6292",
   "metadata": {},
   "source": [
    "## Manual pipeline \n",
    "\n",
    "Below, we will try to set the pipeline manually, and obtain a prediction using it."
   ]
  },
  {
   "cell_type": "markdown",
   "id": "38e5b921-7dd2-4977-8a61-c98aa4aca58d",
   "metadata": {},
   "source": [
    "Manually create a pipeline with the following configuration:\n",
    "\n",
    "![logit_scaling_lda.png](../jupyter_media/fedot_structure/logit_scaling_lda.png)"
   ]
  },
  {
   "cell_type": "code",
   "id": "599bd71a-345d-49a1-94ba-1c02b8de8027",
   "metadata": {},
   "source": [
    "# Define pipeline \n",
    "node_logit = PrimaryNode('logit')\n",
    "node_scaling = PrimaryNode('scaling')\n",
    "node_logit = SecondaryNode('lda', nodes_from=[node_logit, node_scaling])\n",
    "pipeline = Pipeline(node_logit)\n",
    "\n",
    "# Fit it\n",
    "pipeline.fit(input_data)\n",
    "\n",
    "# Make prediction\n",
    "predicted_output = pipeline.predict(input_data)\n",
    "probs = np.array(predicted_output.predict)\n",
    "\n",
    "# Check metric value\n",
    "print(f'ROC AUC score on training sample: {roc_auc(y_data, probs):.3f}')"
   ],
   "outputs": [],
   "execution_count": null
  },
  {
   "cell_type": "markdown",
   "id": "ce625e7d-b784-43f3-8560-c866d5ea4457",
   "metadata": {},
   "source": [
    "This is how you learned the concept of pipelines in FEDOT.\n",
    "\n",
    "But FEDOT can automatically construct such pipelines to solve the task.\n",
    "\n",
    "Below are two examples for solving the classification task (with such pipelines) using API methods and using FEDOT.core function directly. Both examples, regardless of the way they interact, run an automatic machine learning algorithm."
   ]
  },
  {
   "cell_type": "markdown",
   "id": "efda7d2f",
   "metadata": {},
   "source": [
    "## AutoML\n",
    "\n",
    "### API example\n",
    "\n",
    "Using the API allows you to find good solutions using a few lines of code, but on the other hand, this approach has less abilities for modification than using core-based methods."
   ]
  },
  {
   "cell_type": "code",
   "id": "78075ad3-4de1-4665-96e3-03bc5abf44c5",
   "metadata": {
    "tags": []
   },
   "source": [
    "from fedot.api.main import Fedot\n",
    "\n",
    "# Task selection, initialisation of the framework\n",
    "fedot_model = Fedot(problem='classification', \n",
    "                    timeout=1, preset='fast_train',\n",
    "                    seed=20, logging_level=0)\n",
    "\n",
    "# During fit, the pipeline composition algorithm is started\n",
    "pipeline = fedot_model.fit(features=x_data,\n",
    "                           target=y_data)"
   ],
   "outputs": [],
   "execution_count": null
  },
  {
   "cell_type": "code",
   "id": "28c90af5-2062-461a-ad15-3ca8509fca21",
   "metadata": {},
   "source": [
    "pipeline.print_structure()"
   ],
   "outputs": [],
   "execution_count": null
  },
  {
   "cell_type": "code",
   "id": "c585d5e0-f06b-4588-a050-e9b6ba455d39",
   "metadata": {},
   "source": [
    "pipeline.show()"
   ],
   "outputs": [],
   "execution_count": null
  },
  {
   "cell_type": "code",
   "id": "6f5b1edc",
   "metadata": {},
   "source": [
    "prediction = fedot_model.predict_proba(features=x_data)\n",
    "print(pipeline)\n",
    "print(f'ROC AUC score on training sample: {roc_auc(y_data, prediction):.3f}')"
   ],
   "outputs": [],
   "execution_count": null
  },
  {
   "cell_type": "markdown",
   "id": "9f5cbfc6",
   "metadata": {},
   "source": [
    "### Core-based example"
   ]
  },
  {
   "cell_type": "markdown",
   "id": "dc03e667",
   "metadata": {},
   "source": [
    "We will transform the data into a specific format (InputData) for the algorithm launch."
   ]
  },
  {
   "cell_type": "code",
   "id": "d2760a49",
   "metadata": {},
   "source": [
    "import datetime\n",
    "import numpy as np \n",
    "\n",
    "# Dataclass for wrapping arrays into it\n",
    "from fedot.core.data.data import InputData\n",
    "\n",
    "# Tasks to solve\n",
    "from fedot.core.repository.tasks import Task, TaskTypesEnum\n",
    "\n",
    "# Type of the input data\n",
    "from fedot.core.repository.dataset_types import DataTypesEnum\n",
    "\n",
    "# Repository with operations in the FEDOT\n",
    "from fedot.core.repository.operation_types_repository import get_operations_for_task\n",
    "\n",
    "# Pipeline of the FEDOT\n",
    "from fedot.core.pipelines.pipeline import Pipeline\n",
    "\n",
    "# Evolutionary algorithm classes \n",
    "from fedot.core.composer.composer_builder import ComposerBuilder\n",
    "from fedot.core.composer.gp_composer.gp_composer import PipelineComposerRequirements\n",
    "from golem.core.optimisers.genetic.gp_params import GPAlgorithmParameters\n",
    "from golem.core.optimisers.genetic.operators.inheritance import GeneticSchemeTypesEnum\n",
    "from fedot.core.repository.metrics_repository import ClassificationMetricsEnum"
   ],
   "outputs": [],
   "execution_count": null
  },
  {
   "cell_type": "markdown",
   "id": "b8317004",
   "metadata": {},
   "source": [
    "Let's define the task that we plan to solve - classification\n",
    "\n",
    "We will also wrap the data in a special structure-Input Data, where we will assign features, specify target, pass the data type (table) and the specified type of the task to be solved."
   ]
  },
  {
   "cell_type": "code",
   "id": "c0f48cba",
   "metadata": {},
   "source": [
    "# Define classification task\n",
    "task = Task(TaskTypesEnum.classification)\n",
    "\n",
    "# Prepare data to train the model\n",
    "input_data = InputData(idx=np.arange(0, len(x_data)), features=x_data,\n",
    "                       target=y_data, task=task,\n",
    "                       data_type=DataTypesEnum.table)"
   ],
   "outputs": [],
   "execution_count": null
  },
  {
   "cell_type": "markdown",
   "id": "25809823",
   "metadata": {},
   "source": [
    "Now we have identified the data and the task within which we will look for a solution.\n",
    "\n",
    "Next, we want to find a composite model (pipeline) of such a structure that predicts class labels as accurately as possible. We can determine from which models we can assemble such pipelines."
   ]
  },
  {
   "cell_type": "code",
   "id": "957d1900",
   "metadata": {},
   "source": [
    "# The search of the models provided by the framework that can be used as nodes in a pipeline for the selected task\n",
    "available_model_types = ['scaling', 'bernb', 'dt', 'knn', 'lda', 'logit', 'mlp', 'qda', 'rf', 'xgboost']"
   ],
   "outputs": [],
   "execution_count": null
  },
  {
   "cell_type": "markdown",
   "id": "541dd9f5",
   "metadata": {},
   "source": [
    "Let's set the metric that we will use during the evolution process, select \"ROCAUC_penalty\""
   ]
  },
  {
   "cell_type": "code",
   "id": "6ec08f4e",
   "metadata": {},
   "source": [
    "# The choice of the metric for the pipeline quality assessment during composition\n",
    "metric_function = ClassificationMetricsEnum.ROCAUC_penalty"
   ],
   "outputs": [],
   "execution_count": null
  },
  {
   "cell_type": "markdown",
   "id": "b6c345f2",
   "metadata": {},
   "source": [
    "#### Composer\n",
    "\n",
    "Composer is a genetic algorithm that allows you to search for optimal solutions by composing the pipelines of single machine learning models. \n",
    "\n",
    "Through PipelineComposerRequirements, we can set some hyperparameters to adjust the behavior of the evolutionary algorithm.\n",
    "\n",
    "With the help of PipelineComposerRequirements, you can manage:\n",
    "* types of models that can be inserted into primary nodes\n",
    "* types of models that can be inserted into secondary nodes\n",
    "\n",
    "* arity of directed acyclic graph (DAG)\n",
    "* maximum depth of the found pipeline\n",
    "* time to find a solution"
   ]
  },
  {
   "cell_type": "code",
   "id": "5e09ae23",
   "metadata": {},
   "source": [
    "# The choice and initialisation of the GP search\n",
    "timeout = datetime.timedelta(minutes=1)\n",
    "composer_requirements = PipelineComposerRequirements(\n",
    "    primary=available_model_types,\n",
    "    secondary=available_model_types, \n",
    "    max_arity=3,\n",
    "    max_depth=3, \n",
    "    timeout=timeout,\n",
    "    cv_folds=2)"
   ],
   "outputs": [],
   "execution_count": null
  },
  {
   "cell_type": "markdown",
   "id": "f6845bbb",
   "metadata": {},
   "source": [
    "Below we will define the genetic scheme of the algorithm. \n",
    "\n",
    "There are several schemes:\n",
    "* steady_state - evolutionary scheme, also known as $(\\mu+\\lambda)$. New population is generated by using a selection operator which is applied to the union of the offspring and the previous population;\n",
    "* generational - the offspring completely replaces the parent population;\n",
    "* parameter_free - steady-state evolutionary scheme, but $\\mu$ (population size) changes during evolution like the Fibonacci sequence and $\\lambda$ always equals to the previous item of the sequence with respect to $\\mu$.\n",
    "\n",
    "For more information you can check [preprint](https://arxiv.org/abs/2103.01301).\n",
    "\n",
    "We will also use the GPComposerBuilder structure, which allows you to set parameters in GPComposer.\n"
   ]
  },
  {
   "cell_type": "code",
   "id": "f08ffc64-797a-4e2e-8925-2761a3538e27",
   "metadata": {},
   "source": [
    "from fedot.core.composer.gp_composer.specific_operators import parameter_change_mutation\n",
    "from golem.core.optimisers.genetic.operators.mutation import MutationTypesEnum"
   ],
   "outputs": [],
   "execution_count": null
  },
  {
   "cell_type": "code",
   "id": "4da109a7-14f2-43ec-a937-54fa91efee34",
   "metadata": {
    "tags": []
   },
   "source": [
    "# GP optimiser parameters choice\n",
    "scheme_type = GeneticSchemeTypesEnum.parameter_free\n",
    "mutation_types = [parameter_change_mutation, MutationTypesEnum.growth, MutationTypesEnum.reduce, MutationTypesEnum.simple]\n",
    "graph_opt_params = GPAlgorithmParameters(\n",
    "    genetic_scheme_type=scheme_type,\n",
    "    mutation_types=mutation_types,\n",
    "    crossover_prob=0.8,\n",
    "    mutation_prob=0.8)\n",
    "\n",
    "# Create builder for composer and set composer params\n",
    "builder = ComposerBuilder(task=task).\\\n",
    "    with_requirements(composer_requirements).\\\n",
    "    with_optimizer_params(graph_opt_params).\\\n",
    "    with_metrics(metric_function)\n",
    "\n",
    "# Create GP-based composer\n",
    "composer = builder.build()\n",
    "\n",
    "# the optimal pipeline generation by composition - the most time-consuming task\n",
    "pipeline_evo_composed = composer.compose_pipeline(data=input_data)\n"
   ],
   "outputs": [],
   "execution_count": null
  },
  {
   "cell_type": "markdown",
   "id": "6818d5c9",
   "metadata": {},
   "source": [
    "Let's look at the pipeline"
   ]
  },
  {
   "cell_type": "code",
   "id": "d327321f",
   "metadata": {},
   "source": [
    "pipeline_evo_composed.show()"
   ],
   "outputs": [],
   "execution_count": null
  },
  {
   "cell_type": "markdown",
   "id": "dacdffc1",
   "metadata": {},
   "source": [
    "We got a pipeline of several machine learning models. But in the course of evolution, the hyperparameters of these models did not change. Now, within the given topology, we will optimize the hyperparameters."
   ]
  },
  {
   "cell_type": "code",
   "id": "08354b36-360f-4086-aa0b-35282d48a531",
   "metadata": {
    "tags": []
   },
   "source": [
    "from fedot.core.pipelines.tuning.tuner_builder import TunerBuilder\n",
    "from golem.core.tuning.simultaneous import SimultaneousTuner\n",
    "from fedot.core.repository.metrics_repository import  ClassificationMetricsEnum\n",
    "\n",
    "\n",
    "tuner = TunerBuilder(input_data.task)\\\n",
    "        .with_tuner(SimultaneousTuner)\\\n",
    "        .with_metric(ClassificationMetricsEnum.ROCAUC)\\\n",
    "        .with_iterations(20) \\\n",
    "        .build(input_data)\n",
    "tuned_pipeline = tuner.tune(pipeline_evo_composed)\n",
    "\n",
    "#final fit on all data\n",
    "tuned_pipeline.fit(input_data)\n",
    "print('Pipeline tuned')"
   ],
   "outputs": [],
   "execution_count": null
  },
  {
   "cell_type": "markdown",
   "id": "4e702c55",
   "metadata": {},
   "source": [
    "Check the metric"
   ]
  },
  {
   "cell_type": "code",
   "id": "48552727",
   "metadata": {
    "ExecuteTime": {
     "end_time": "2025-09-05T16:31:13.441421Z",
     "start_time": "2025-09-05T16:31:13.383424Z"
    }
   },
   "source": [
    "prediction = tuned_pipeline.predict(input_data)\n",
    "print(f'ROC AUC score on training sample: {roc_auc(input_data.target, prediction.predict):.3f}')"
   ],
   "outputs": [
    {
     "name": "stderr",
     "output_type": "stream",
     "text": [
      "DEBUG:root:DataPreprocessor - -- Converting datetime data to numerical\n"
     ]
    },
    {
     "name": "stdout",
     "output_type": "stream",
     "text": [
      "2025-09-05 19:31:13,386 - DataPreprocessor - -- Converting datetime data to numerical\n"
     ]
    },
    {
     "name": "stderr",
     "output_type": "stream",
     "text": [
      "DEBUG:root:DataPreprocessor - -- Fixing table / time series shapes\n"
     ]
    },
    {
     "name": "stdout",
     "output_type": "stream",
     "text": [
      "2025-09-05 19:31:13,390 - DataPreprocessor - -- Fixing table / time series shapes\n"
     ]
    },
    {
     "name": "stderr",
     "output_type": "stream",
     "text": [
      "DEBUG:root:DataPreprocessor - -- Removing incorrect features\n"
     ]
    },
    {
     "name": "stdout",
     "output_type": "stream",
     "text": [
      "2025-09-05 19:31:13,393 - DataPreprocessor - -- Removing incorrect features\n"
     ]
    },
    {
     "name": "stderr",
     "output_type": "stream",
     "text": [
      "DEBUG:root:DataPreprocessor - -- Converting data for predict\n"
     ]
    },
    {
     "name": "stdout",
     "output_type": "stream",
     "text": [
      "2025-09-05 19:31:13,395 - DataPreprocessor - -- Converting data for predict\n"
     ]
    },
    {
     "name": "stderr",
     "output_type": "stream",
     "text": [
      "DEBUG:root:DataPreprocessor - Deciding to apply imputation for data\n"
     ]
    },
    {
     "name": "stdout",
     "output_type": "stream",
     "text": [
      "2025-09-05 19:31:13,402 - DataPreprocessor - Deciding to apply imputation for data\n"
     ]
    },
    {
     "name": "stderr",
     "output_type": "stream",
     "text": [
      "DEBUG:root:DataPreprocessor - Deciding to apply encoding for data\n"
     ]
    },
    {
     "name": "stdout",
     "output_type": "stream",
     "text": [
      "2025-09-05 19:31:13,405 - DataPreprocessor - Deciding to apply encoding for data\n"
     ]
    },
    {
     "name": "stderr",
     "output_type": "stream",
     "text": [
      "DEBUG:root:DataPreprocessor - -- Reduce memory in features\n"
     ]
    },
    {
     "name": "stdout",
     "output_type": "stream",
     "text": [
      "2025-09-05 19:31:13,407 - DataPreprocessor - -- Reduce memory in features\n"
     ]
    },
    {
     "name": "stderr",
     "output_type": "stream",
     "text": [
      "DEBUG:root:DataPreprocessor - -- Reduce memory in target\n"
     ]
    },
    {
     "name": "stdout",
     "output_type": "stream",
     "text": [
      "2025-09-05 19:31:13,413 - DataPreprocessor - -- Reduce memory in target\n"
     ]
    },
    {
     "name": "stderr",
     "output_type": "stream",
     "text": [
      "DEBUG:root:PipelineNode - Obtain prediction in pipeline node by operation: logit\n"
     ]
    },
    {
     "name": "stdout",
     "output_type": "stream",
     "text": [
      "2025-09-05 19:31:13,417 - PipelineNode - Obtain prediction in pipeline node by operation: logit\n"
     ]
    },
    {
     "name": "stderr",
     "output_type": "stream",
     "text": [
      "DEBUG:root:PipelineNode - Fit all parent nodes in secondary node with operation: logit\n"
     ]
    },
    {
     "name": "stdout",
     "output_type": "stream",
     "text": [
      "2025-09-05 19:31:13,420 - PipelineNode - Fit all parent nodes in secondary node with operation: logit\n"
     ]
    },
    {
     "name": "stderr",
     "output_type": "stream",
     "text": [
      "DEBUG:root:PipelineNode - Obtain prediction in pipeline node by operation: lda\n"
     ]
    },
    {
     "name": "stdout",
     "output_type": "stream",
     "text": [
      "2025-09-05 19:31:13,423 - PipelineNode - Obtain prediction in pipeline node by operation: lda\n"
     ]
    },
    {
     "name": "stderr",
     "output_type": "stream",
     "text": [
      "DEBUG:root:PipelineNode - Obtain prediction in pipeline node by operation: scaling\n"
     ]
    },
    {
     "name": "stdout",
     "output_type": "stream",
     "text": [
      "2025-09-05 19:31:13,427 - PipelineNode - Obtain prediction in pipeline node by operation: scaling\n",
      "ROC AUC score on training sample: 0.929\n"
     ]
    }
   ],
   "execution_count": 19
  },
  {
   "cell_type": "markdown",
   "id": "591b3493",
   "metadata": {},
   "source": [
    "As you can see from the metric value, the model was well trained on the training sample. \n",
    "\n",
    "### Pipeline visualistion "
   ]
  },
  {
   "cell_type": "code",
   "id": "fde8604e-9568-40f0-b114-f440a9fd6ebf",
   "metadata": {
    "ExecuteTime": {
     "end_time": "2025-09-05T16:31:18.922942Z",
     "start_time": "2025-09-05T16:31:18.828946Z"
    }
   },
   "source": [
    "tuned_pipeline.show()"
   ],
   "outputs": [
    {
     "data": {
      "text/plain": [
       "<Figure size 700x700 with 1 Axes>"
      ],
      "image/png": "[encoded data removed]"
     },
     "metadata": {},
     "output_type": "display_data"
    }
   ],
   "execution_count": 20
  },
  {
   "cell_type": "markdown",
   "id": "4054a3e2-1b9c-4f9c-946d-11dd2335f6f6",
   "metadata": {},
   "source": [
    "So, in this notebook, you learned how to run FEDOT for the classification task, both using the API and using more complex constructs from the core based on the functionality of the FEDOT framework."
   ]
  }
 ],
 "metadata": {
  "kernelspec": {
   "display_name": "Python 3 (ipykernel)",
   "language": "python",
   "name": "python3"
  },
  "language_info": {
   "codemirror_mode": {
    "name": "ipython",
    "version": 3
   },
   "file_extension": ".py",
   "mimetype": "text/x-python",
   "name": "python",
   "nbconvert_exporter": "python",
   "pygments_lexer": "ipython3",
   "version": "3.8.17"
  }
 },
 "nbformat": 4,
 "nbformat_minor": 5
}
