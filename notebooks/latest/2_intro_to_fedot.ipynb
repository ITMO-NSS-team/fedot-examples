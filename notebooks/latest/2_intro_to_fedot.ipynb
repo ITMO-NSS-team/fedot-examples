{
 "cells": [
  {
   "cell_type": "markdown",
   "id": "72539c3b",
   "metadata": {},
   "source": [
    "# FEDOT framework\n",
    "#### FEDOT version = 0.4"
   ]
  },
  {
   "cell_type": "code",
   "execution_count": null,
   "id": "fb0a10ac-5fcc-4927-bee7-f9c2bf873578",
   "metadata": {},
   "outputs": [],
   "source": [
    "pip install fedot==0.4"
   ]
  },
  {
   "cell_type": "markdown",
   "id": "8902183f-da53-4747-91bb-83d58b07a640",
   "metadata": {},
   "source": [
    "Below is a description of the FEDOT framework and its main functions, which can be used to solve various ML tasks, namely:\n",
    "\n",
    "* Regression\n",
    "* Classification\n",
    "* Time series forecasting\n",
    "* Clustering\n",
    "\n",
    "FEDOT can construct complex composite models (consisting of multiple machine learning models and preprocessing operations) based on an evolutionary algorithm. Thus, it is possible to create pipelines for solving various tasks.\n",
    "\n",
    "The structure of the FEDOT framework can be seen in the figure below:\n",
    "\n",
    "<img src=\"../jupyter_media/fedot_structure/fedot_structure_04.png\" width=\"800\"/> \n",
    "\n",
    "Figure 1. The structure of the FEDOT framework. The main modules of the library are shown.\n",
    "\n",
    "As you can see from the picture there are two ways to start FEDOT:\n",
    "1) API - allows you to run framework models in a few lines of code;\n",
    "2) Low-level methods from the core - you can call methods by accessing the core directly. In this case, you will have to write more code, but more functionality opens up.\n",
    "\n",
    "## Composite models\n",
    "\n",
    "FEDOT has following abstractions:\n",
    "* Operation - is a machine learning model or preprocessing operation or statistical models;\n",
    "* Node - is a container in which the operation is placed. A single node can contain only one operation;\n",
    "* Pipeline - is directed acyclic graph-like structure that contains several connected nodes. The analogue can be a computation graph from tensorflow, or simple workflow (from Apache Airflow, for instance). Pipelines are complex composite models. A single pipeline can consist of multiple nodes, or a single node.\n",
    "\n",
    "<img src=\"../jupyter_media/fedot_structure/operation_node_pipeline.png\" width=\"800\"/> \n",
    "\n",
    "## Generate synthetic dataset for classification task"
   ]
  },
  {
   "cell_type": "code",
   "execution_count": 1,
   "id": "d244bf1d",
   "metadata": {},
   "outputs": [
    {
     "name": "stdout",
     "output_type": "stream",
     "text": [
      "Features table shape: (250, 3), type: <class 'numpy.ndarray'>\n",
      "Target vector: (250,), type: <class 'numpy.ndarray'>\n"
     ]
    }
   ],
   "source": [
    "from fedot.utilities.synth_dataset_generator import classification_dataset\n",
    "from sklearn.metrics import roc_auc_score as roc_auc\n",
    "\n",
    "# Generate numpy arrays with features and target\n",
    "features_options = {'informative': 1, 'redundant': 0,\n",
    "                    'repeated': 0, 'clusters_per_class': 1}\n",
    "x_data, y_data = classification_dataset(samples_amount=250,\n",
    "                                        features_amount=3,\n",
    "                                        classes_amount=2,\n",
    "                                        features_options=features_options)\n",
    "\n",
    "print(f'Features table shape: {x_data.shape}, type: {type(x_data)}')\n",
    "print(f'Target vector: {y_data.shape}, type: {type(y_data)}')"
   ]
  },
  {
   "cell_type": "markdown",
   "id": "0f7942f9-d7d7-4267-b806-4e0160e6737e",
   "metadata": {},
   "source": [
    "Prepare the necessary imports"
   ]
  },
  {
   "cell_type": "code",
   "execution_count": 2,
   "id": "95c7cef0-c56a-41df-969e-672387eee27f",
   "metadata": {},
   "outputs": [],
   "source": [
    "import numpy as np\n",
    "\n",
    "# Create pipelines\n",
    "from fedot.core.pipelines.pipeline import Pipeline\n",
    "from fedot.core.pipelines.node import PrimaryNode, SecondaryNode\n",
    "\n",
    "# Tasks to solve\n",
    "from fedot.core.repository.tasks import Task, TaskTypesEnum\n",
    "\n",
    "# Dataclass for wrapping arrays into it\n",
    "from fedot.core.data.data import InputData\n",
    "\n",
    "# Type of the input data\n",
    "from fedot.core.repository.dataset_types import DataTypesEnum\n",
    "\n",
    "# Define classification task\n",
    "task = Task(TaskTypesEnum.classification)\n",
    "\n",
    "# Prepare data to train the model\n",
    "input_data = InputData(idx=np.arange(0, len(x_data)), features=x_data,\n",
    "                       target=y_data, task=task,\n",
    "                       data_type=DataTypesEnum.table)"
   ]
  },
  {
   "cell_type": "markdown",
   "id": "65908add-2495-4583-b4d0-6b5d932f6292",
   "metadata": {},
   "source": [
    "## Manual pipeline \n",
    "\n",
    "Below, we will try to set the pipeline manually, and obtain a prediction using it."
   ]
  },
  {
   "cell_type": "markdown",
   "id": "38e5b921-7dd2-4977-8a61-c98aa4aca58d",
   "metadata": {},
   "source": [
    "Manually create a pipeline with the following configuration:\n",
    "\n",
    "![logit_scaling_lda.png](../jupyter_media/fedot_structure/logit_scaling_lda.png)"
   ]
  },
  {
   "cell_type": "code",
   "execution_count": 3,
   "id": "599bd71a-345d-49a1-94ba-1c02b8de8027",
   "metadata": {},
   "outputs": [
    {
     "name": "stdout",
     "output_type": "stream",
     "text": [
      "ROC AUC score on training sample: 0.953\n"
     ]
    }
   ],
   "source": [
    "# Define pipeline \n",
    "node_logit = PrimaryNode('logit')\n",
    "node_scaling = PrimaryNode('scaling')\n",
    "node_logit = SecondaryNode('lda', nodes_from=[node_logit, node_scaling])\n",
    "pipeline = Pipeline(node_logit)\n",
    "\n",
    "# Fit it\n",
    "pipeline.fit(input_data)\n",
    "\n",
    "# Make prediction\n",
    "predicted_output = pipeline.predict(input_data)\n",
    "probs = np.array(predicted_output.predict)\n",
    "\n",
    "# Check metric value\n",
    "print(f'ROC AUC score on training sample: {roc_auc(y_data, probs):.3f}')"
   ]
  },
  {
   "cell_type": "markdown",
   "id": "ce625e7d-b784-43f3-8560-c866d5ea4457",
   "metadata": {},
   "source": [
    "This is how you learned the concept of pipelines in FEDOT.\n",
    "\n",
    "But FEDOT can automatically construct such pipelines to solve the task.\n",
    "\n",
    "Below are two examples for solving the classification task (with such pipelines) using API methods and using FEDOT.core function directly. Both examples, regardless of the way they interact, run an automatic machine learning algorithm."
   ]
  },
  {
   "cell_type": "markdown",
   "id": "efda7d2f",
   "metadata": {},
   "source": [
    "## AutoML\n",
    "\n",
    "### API example\n",
    "\n",
    "Using the API allows you to find good solutions using a few lines of code, but on the other hand, this approach has less abilities for modification than using core-based methods.\n",
    "\n",
    "*Due to the specifics of the jupiter notebooks format, in order not to overload the page with unnecessary logs, we do not show the cell output below."
   ]
  },
  {
   "cell_type": "code",
   "execution_count": null,
   "id": "f7387d42-c441-419e-91ff-75444e0c4869",
   "metadata": {
    "tags": []
   },
   "outputs": [],
   "source": [
    "from fedot.api.main import Fedot\n",
    "\n",
    "# Task selection, initialisation of the framework\n",
    "fedot_model = Fedot(problem='classification', \n",
    "                    timeout=1,\n",
    "                    seed=20, verbose_level=2)\n",
    "\n",
    "# During fit, the pipeline composition algorithm is started\n",
    "pipeline = fedot_model.fit(features=x_data,\n",
    "                           target=y_data)"
   ]
  },
  {
   "cell_type": "code",
   "execution_count": 5,
   "id": "28c90af5-2062-461a-ad15-3ca8509fca21",
   "metadata": {},
   "outputs": [
    {
     "name": "stdout",
     "output_type": "stream",
     "text": [
      "Pipeline structure:\n",
      "{'depth': 2, 'length': 2, 'nodes': [xgboost, simple_imputation]}\n",
      "xgboost - {'n_estimators': 100, 'max_depth': 1, 'learning_rate': 0.8760124806500015, 'subsample': 0.7716189165021601, 'min_child_weight': 1, 'nthread': 1}\n",
      "simple_imputation - default_params\n"
     ]
    }
   ],
   "source": [
    "pipeline.print_structure()"
   ]
  },
  {
   "cell_type": "code",
   "execution_count": 6,
   "id": "c585d5e0-f06b-4588-a050-e9b6ba455d39",
   "metadata": {},
   "outputs": [
    {
     "data": {
      "image/png": "[encoded data removed]",
      "text/plain": [
       "<Figure size 648x648 with 1 Axes>"
      ]
     },
     "metadata": {},
     "output_type": "display_data"
    }
   ],
   "source": [
    "pipeline.show()"
   ]
  },
  {
   "cell_type": "code",
   "execution_count": 7,
   "id": "6f5b1edc",
   "metadata": {},
   "outputs": [
    {
     "name": "stdout",
     "output_type": "stream",
     "text": [
      "{'depth': 2, 'length': 2, 'nodes': [xgboost, simple_imputation]}\n",
      "ROC AUC score on training sample: 0.998\n"
     ]
    }
   ],
   "source": [
    "prediction = fedot_model.predict_proba(features=x_data)\n",
    "print(pipeline)\n",
    "print(f'ROC AUC score on training sample: {roc_auc(y_data, prediction):.3f}')"
   ]
  },
  {
   "cell_type": "markdown",
   "id": "9f5cbfc6",
   "metadata": {},
   "source": [
    "### Core-based example"
   ]
  },
  {
   "cell_type": "markdown",
   "id": "dc03e667",
   "metadata": {},
   "source": [
    "We will transform the data into a specific format (InputData) for the algorithm launch."
   ]
  },
  {
   "cell_type": "code",
   "execution_count": 4,
   "id": "d2760a49",
   "metadata": {},
   "outputs": [],
   "source": [
    "import datetime\n",
    "import numpy as np \n",
    "\n",
    "# Dataclass for wrapping arrays into it\n",
    "from fedot.core.data.data import InputData\n",
    "\n",
    "# Tasks to solve\n",
    "from fedot.core.repository.tasks import Task, TaskTypesEnum\n",
    "\n",
    "# Type of the input data\n",
    "from fedot.core.repository.dataset_types import DataTypesEnum\n",
    "\n",
    "# Repository with operations in the FEDOT\n",
    "from fedot.core.repository.operation_types_repository import get_operations_for_task\n",
    "\n",
    "# Pipeline of the FEDOT\n",
    "from fedot.core.pipelines.pipeline import Pipeline\n",
    "\n",
    "# Evolutionary algorithm classes \n",
    "from fedot.core.composer.gp_composer.gp_composer import GPComposerBuilder, GPComposerRequirements\n",
    "from fedot.core.optimisers.gp_comp.operators.inheritance import GeneticSchemeTypesEnum\n",
    "from fedot.core.optimisers.gp_comp.gp_optimiser import GPGraphOptimiserParameters\n",
    "from fedot.core.repository.quality_metrics_repository import ClassificationMetricsEnum"
   ]
  },
  {
   "cell_type": "markdown",
   "id": "b8317004",
   "metadata": {},
   "source": [
    "Let's define the task that we plan to solve-classification\n",
    "\n",
    "We will also wrap the data in a special structure-Input Data, where we will assign features, specify target, pass the data type (table) and the specified type of the task to be solved."
   ]
  },
  {
   "cell_type": "code",
   "execution_count": 5,
   "id": "c0f48cba",
   "metadata": {},
   "outputs": [],
   "source": [
    "# Define classification task\n",
    "task = Task(TaskTypesEnum.classification)\n",
    "\n",
    "# Prepare data to train the model\n",
    "input_data = InputData(idx=np.arange(0, len(x_data)), features=x_data,\n",
    "                       target=y_data, task=task,\n",
    "                       data_type=DataTypesEnum.table)"
   ]
  },
  {
   "cell_type": "markdown",
   "id": "25809823",
   "metadata": {},
   "source": [
    "Now we have identified the data and the task within which we will look for a solution.\n",
    "\n",
    "Next, we want to find a composite model (pipeline) of such a structure that predicts class labels as accurately as possible. We can determine from which models we can assemble such pipelines."
   ]
  },
  {
   "cell_type": "code",
   "execution_count": 6,
   "id": "957d1900",
   "metadata": {},
   "outputs": [
    {
     "data": {
      "text/plain": [
       "['bernb',\n",
       " 'catboost',\n",
       " 'dt',\n",
       " 'knn',\n",
       " 'lda',\n",
       " 'lgbm',\n",
       " 'logit',\n",
       " 'mlp',\n",
       " 'qda',\n",
       " 'rf',\n",
       " 'xgboost']"
      ]
     },
     "execution_count": 6,
     "metadata": {},
     "output_type": "execute_result"
    }
   ],
   "source": [
    "# The search of the models provided by the framework that can be used as nodes in a pipeline for the selected task\n",
    "available_model_types = get_operations_for_task(task=task, mode='model')\n",
    "available_model_types"
   ]
  },
  {
   "cell_type": "markdown",
   "id": "541dd9f5",
   "metadata": {},
   "source": [
    "Let's set the metric that we will use during the evolution process, select \"ROCAUC_penalty\""
   ]
  },
  {
   "cell_type": "code",
   "execution_count": 7,
   "id": "6ec08f4e",
   "metadata": {},
   "outputs": [],
   "source": [
    "# The choice of the metric for the pipeline quality assessment during composition\n",
    "metric_function = ClassificationMetricsEnum.ROCAUC_penalty"
   ]
  },
  {
   "cell_type": "markdown",
   "id": "b6c345f2",
   "metadata": {},
   "source": [
    "#### GPComposer\n",
    "\n",
    "GPComposer is a genetic algorithm that allows you to search for optimal solutions by composing the pipelines of single machine learning models. \n",
    "\n",
    "Through GPComposerRequirements, we can set some hyperparameters to adjust the behavior of the evolutionary algorithm.\n",
    "\n",
    "With the help of GPComposerRequirements, you can manage:\n",
    "* types of models that can be inserted into primary nodes\n",
    "* types of models that can be inserted into secondary nodes\n",
    "* mutation probability\n",
    "* crossover probability\n",
    "* arity of directed acyclic graph (DAG)\n",
    "* maximum depth of the found pipeline\n",
    "* time to find a solution"
   ]
  },
  {
   "cell_type": "code",
   "execution_count": 8,
   "id": "5e09ae23",
   "metadata": {},
   "outputs": [],
   "source": [
    "# The choice and initialisation of the GP search\n",
    "timeout = datetime.timedelta(minutes=1)\n",
    "composer_requirements = GPComposerRequirements(\n",
    "    primary=available_model_types,\n",
    "    secondary=available_model_types, \n",
    "    max_arity=3,\n",
    "    max_depth=8, \n",
    "    pop_size=10, \n",
    "    num_of_generations=20,\n",
    "    crossover_prob=0.8,\n",
    "    mutation_prob=0.8,\n",
    "    timeout=timeout, \n",
    "    cv_folds=2)"
   ]
  },
  {
   "cell_type": "markdown",
   "id": "f6845bbb",
   "metadata": {},
   "source": [
    "Below we will define the genetic scheme of the algorithm. \n",
    "\n",
    "There are several schemes:\n",
    "* steady_state - evolutionary scheme, also known as $(\\mu+\\lambda)$. New population is generated by using a selection operator which is applied to the union of the offspring and the previous population;\n",
    "* generational - the offspring completely replaces the parent population;\n",
    "* parameter_free - steady-state evolutionary scheme, but $\\mu$ (population size) changes during evolution like the Fibonacci sequence and $\\lambda$ always equals to the previous item of the sequence with respect to $\\mu$.\n",
    "\n",
    "For more information you can check [preprint](https://arxiv.org/abs/2103.01301).\n",
    "\n",
    "We will also use the GPComposerBuilder structure, which allows you to set parameters in GPComposer.\n",
    "\n",
    "*Due to the specifics of the jupiter notebooks format, in order not to overload the page with unnecessary logs, we do not show the cell output below."
   ]
  },
  {
   "cell_type": "code",
   "execution_count": null,
   "id": "59738e00-1c28-4b30-acc8-03b342836228",
   "metadata": {},
   "outputs": [],
   "source": [
    "# GP optimiser parameters choice\n",
    "scheme_type = GeneticSchemeTypesEnum.parameter_free\n",
    "optimiser_parameters = GPGraphOptimiserParameters(genetic_scheme_type=scheme_type)\n",
    "\n",
    "# Create builder for composer and set composer params\n",
    "builder = GPComposerBuilder(task=task).\\\n",
    "    with_requirements(composer_requirements).\\\n",
    "    with_metrics(metric_function).\\\n",
    "    with_optimiser_parameters(optimiser_parameters)\n",
    "\n",
    "# Create GP-based composer\n",
    "composer = builder.build()\n",
    "\n",
    "# the optimal pipeline generation by composition - the most time-consuming task\n",
    "pipeline_evo_composed = composer.compose_pipeline(data=input_data,\n",
    "                                                  is_visualise=True)"
   ]
  },
  {
   "cell_type": "markdown",
   "id": "dacdffc1",
   "metadata": {},
   "source": [
    "We got a pipeline of several machine learning models. But in the course of evolution, the hyperparameters of these models did not change. Now, within the given topology, we will optimize the hyperparameters.\n",
    "\n",
    "*Due to the specifics of the jupiter notebooks format, in order not to overload the page with unnecessary logs, we do not show the cell output below."
   ]
  },
  {
   "cell_type": "code",
   "execution_count": null,
   "id": "74c69c77-38d8-4476-afd0-f9777431f7ab",
   "metadata": {},
   "outputs": [],
   "source": [
    "pipeline_evo_composed.fine_tune_all_nodes(loss_function=roc_auc,\n",
    "                                          loss_params=None,\n",
    "                                          input_data=input_data)"
   ]
  },
  {
   "cell_type": "markdown",
   "id": "4e702c55",
   "metadata": {},
   "source": [
    "Check the metric"
   ]
  },
  {
   "cell_type": "code",
   "execution_count": 13,
   "id": "48552727",
   "metadata": {},
   "outputs": [
    {
     "name": "stdout",
     "output_type": "stream",
     "text": [
      "ROC AUC score on training sample: 0.960\n"
     ]
    }
   ],
   "source": [
    "prediction = pipeline_evo_composed.predict(input_data)\n",
    "print(f'ROC AUC score on training sample: {roc_auc(y_data, prediction.predict):.3f}')"
   ]
  },
  {
   "cell_type": "markdown",
   "id": "591b3493",
   "metadata": {},
   "source": [
    "As you can see from the metric value, the model was well trained on the training sample. \n",
    "\n",
    "### Pipeline visualistion "
   ]
  },
  {
   "cell_type": "code",
   "execution_count": 14,
   "id": "fde8604e-9568-40f0-b114-f440a9fd6ebf",
   "metadata": {},
   "outputs": [
    {
     "data": {
      "image/png": "[encoded data removed]",
      "text/plain": [
       "<Figure size 648x648 with 1 Axes>"
      ]
     },
     "metadata": {},
     "output_type": "display_data"
    }
   ],
   "source": [
    "pipeline_evo_composed.show()"
   ]
  },
  {
   "cell_type": "markdown",
   "id": "4054a3e2-1b9c-4f9c-946d-11dd2335f6f6",
   "metadata": {},
   "source": [
    "So, in this notebook, you learned how to run FEDOT for the classification task, both using the API and using more complex constructs from the core based on the functionality of the FEDOT framework."
   ]
  }
 ],
 "metadata": {
  "kernelspec": {
   "display_name": "Python 3",
   "language": "python",
   "name": "python3"
  },
  "language_info": {
   "codemirror_mode": {
    "name": "ipython",
    "version": 3
   },
   "file_extension": ".py",
   "mimetype": "text/x-python",
   "name": "python",
   "nbconvert_exporter": "python",
   "pygments_lexer": "ipython3",
   "version": "3.7.0"
  }
 },
 "nbformat": 4,
 "nbformat_minor": 5
}
