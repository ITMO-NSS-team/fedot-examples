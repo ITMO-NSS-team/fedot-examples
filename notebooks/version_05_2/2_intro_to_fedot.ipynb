{
 "cells": [
  {
   "cell_type": "markdown",
   "id": "72539c3b",
   "metadata": {},
   "source": [
    "# FEDOT framework\n",
    "#### FEDOT version = 0.5.2"
   ]
  },
  {
   "cell_type": "code",
   "execution_count": null,
   "id": "fb0a10ac-5fcc-4927-bee7-f9c2bf873578",
   "metadata": {},
   "outputs": [],
   "source": [
    "!pip install fedot==0.5.2"
   ]
  },
  {
   "cell_type": "markdown",
   "id": "8902183f-da53-4747-91bb-83d58b07a640",
   "metadata": {},
   "source": [
    "Below is a description of the FEDOT framework and its main functions, which can be used to solve various ML tasks, namely:\n",
    "\n",
    "* Regression\n",
    "* Classification\n",
    "* Time series forecasting\n",
    "* Clustering\n",
    "\n",
    "FEDOT can construct complex composite models (consisting of multiple machine learning models and preprocessing operations) based on an evolutionary algorithm. Thus, it is possible to create pipelines for solving various tasks.\n",
    "\n",
    "The structure of the FEDOT framework can be seen in the figure below:\n",
    "\n",
    "<img src=\"../jupyter_media/fedot_structure/fedot_structure_04.png\" width=\"800\"/> \n",
    "\n",
    "Figure 1. The structure of the FEDOT framework. The main modules of the library are shown.\n",
    "\n",
    "As you can see from the picture there are two ways to start FEDOT:\n",
    "1) API - allows you to run framework models in a few lines of code;\n",
    "2) Low-level methods from the core - you can call methods by accessing the core directly. In this case, you will have to write more code, but more functionality opens up.\n",
    "\n",
    "## Composite models\n",
    "\n",
    "FEDOT has following abstractions:\n",
    "* Operation - is a machine learning model or preprocessing operation or statistical models;\n",
    "* Node - is a container in which the operation is placed. A single node can contain only one operation;\n",
    "* Pipeline - is directed acyclic graph-like structure that contains several connected nodes. The analogue can be a computation graph from tensorflow, or simple workflow (from Apache Airflow, for instance). Pipelines are complex composite models. A single pipeline can consist of multiple nodes, or a single node.\n",
    "\n",
    "<img src=\"../jupyter_media/fedot_structure/operation_node_pipeline.png\" width=\"800\"/> \n",
    "\n",
    "## Generate synthetic dataset for classification task"
   ]
  },
  {
   "cell_type": "code",
   "execution_count": 1,
   "id": "d244bf1d",
   "metadata": {},
   "outputs": [
    {
     "name": "stdout",
     "output_type": "stream",
     "text": [
      "Features table shape: (250, 3), type: <class 'numpy.ndarray'>\n",
      "Target vector: (250,), type: <class 'numpy.ndarray'>\n"
     ]
    }
   ],
   "source": [
    "import logging\n",
    "logging.raiseExceptions = False\n",
    "\n",
    "from fedot.utilities.synth_dataset_generator import classification_dataset\n",
    "from sklearn.metrics import roc_auc_score as roc_auc\n",
    "\n",
    "# Generate numpy arrays with features and target\n",
    "features_options = {'informative': 1, 'redundant': 0,\n",
    "                    'repeated': 0, 'clusters_per_class': 1}\n",
    "x_data, y_data = classification_dataset(samples_amount=250,\n",
    "                                        features_amount=3,\n",
    "                                        classes_amount=2,\n",
    "                                        features_options=features_options)\n",
    "\n",
    "print(f'Features table shape: {x_data.shape}, type: {type(x_data)}')\n",
    "print(f'Target vector: {y_data.shape}, type: {type(y_data)}')"
   ]
  },
  {
   "cell_type": "markdown",
   "id": "0f7942f9-d7d7-4267-b806-4e0160e6737e",
   "metadata": {},
   "source": [
    "Prepare the necessary imports"
   ]
  },
  {
   "cell_type": "code",
   "execution_count": 2,
   "id": "95c7cef0-c56a-41df-969e-672387eee27f",
   "metadata": {},
   "outputs": [],
   "source": [
    "import numpy as np\n",
    "\n",
    "# Create pipelines\n",
    "from fedot.core.pipelines.pipeline import Pipeline\n",
    "from fedot.core.pipelines.node import PrimaryNode, SecondaryNode\n",
    "\n",
    "# Tasks to solve\n",
    "from fedot.core.repository.tasks import Task, TaskTypesEnum\n",
    "\n",
    "# Dataclass for wrapping arrays into it\n",
    "from fedot.core.data.data import InputData\n",
    "\n",
    "# Type of the input data\n",
    "from fedot.core.repository.dataset_types import DataTypesEnum\n",
    "\n",
    "# Define classification task\n",
    "task = Task(TaskTypesEnum.classification)\n",
    "\n",
    "# Prepare data to train the model\n",
    "input_data = InputData(idx=np.arange(0, len(x_data)), features=x_data,\n",
    "                       target=y_data, task=task,\n",
    "                       data_type=DataTypesEnum.table)"
   ]
  },
  {
   "cell_type": "markdown",
   "id": "65908add-2495-4583-b4d0-6b5d932f6292",
   "metadata": {},
   "source": [
    "## Manual pipeline \n",
    "\n",
    "Below, we will try to set the pipeline manually, and obtain a prediction using it."
   ]
  },
  {
   "cell_type": "markdown",
   "id": "38e5b921-7dd2-4977-8a61-c98aa4aca58d",
   "metadata": {},
   "source": [
    "Manually create a pipeline with the following configuration:\n",
    "\n",
    "![logit_scaling_lda.png](../jupyter_media/fedot_structure/logit_scaling_lda.png)"
   ]
  },
  {
   "cell_type": "code",
   "execution_count": 3,
   "id": "599bd71a-345d-49a1-94ba-1c02b8de8027",
   "metadata": {},
   "outputs": [
    {
     "name": "stdout",
     "output_type": "stream",
     "text": [
      "ROC AUC score on training sample: 0.962\n"
     ]
    }
   ],
   "source": [
    "# Define pipeline \n",
    "node_logit = PrimaryNode('logit')\n",
    "node_scaling = PrimaryNode('scaling')\n",
    "node_logit = SecondaryNode('lda', nodes_from=[node_logit, node_scaling])\n",
    "pipeline = Pipeline(node_logit)\n",
    "\n",
    "# Fit it\n",
    "pipeline.fit(input_data)\n",
    "\n",
    "# Make prediction\n",
    "predicted_output = pipeline.predict(input_data)\n",
    "probs = np.array(predicted_output.predict)\n",
    "\n",
    "# Check metric value\n",
    "print(f'ROC AUC score on training sample: {roc_auc(y_data, probs):.3f}')"
   ]
  },
  {
   "cell_type": "markdown",
   "id": "ce625e7d-b784-43f3-8560-c866d5ea4457",
   "metadata": {},
   "source": [
    "This is how you learned the concept of pipelines in FEDOT.\n",
    "\n",
    "But FEDOT can automatically construct such pipelines to solve the task.\n",
    "\n",
    "Below are two examples for solving the classification task (with such pipelines) using API methods and using FEDOT.core function directly. Both examples, regardless of the way they interact, run an automatic machine learning algorithm."
   ]
  },
  {
   "cell_type": "markdown",
   "id": "efda7d2f",
   "metadata": {},
   "source": [
    "## AutoML\n",
    "\n",
    "### API example\n",
    "\n",
    "Using the API allows you to find good solutions using a few lines of code, but on the other hand, this approach has less abilities for modification than using core-based methods."
   ]
  },
  {
   "cell_type": "code",
   "execution_count": 4,
   "id": "78075ad3-4de1-4665-96e3-03bc5abf44c5",
   "metadata": {
    "tags": []
   },
   "outputs": [
    {
     "name": "stderr",
     "output_type": "stream",
     "text": [
      "Generations:   1%|▌                                                             | 1/100 [00:00<?, ?gen/s]"
     ]
    },
    {
     "name": "stdout",
     "output_type": "stream",
     "text": [
      "Number of used CPU's: 1\n",
      "Number of used CPU's: 1\n",
      "Number of used CPU's: 1\n"
     ]
    },
    {
     "name": "stderr",
     "output_type": "stream",
     "text": [
      "Generations:   2%|█                                                     | 2/100 [00:14<24:12, 14.82s/gen]"
     ]
    },
    {
     "name": "stdout",
     "output_type": "stream",
     "text": [
      "Number of used CPU's: 1\n"
     ]
    },
    {
     "name": "stderr",
     "output_type": "stream",
     "text": [
      "Generations:   3%|█▌                                                    | 3/100 [00:21<16:35, 10.27s/gen]"
     ]
    },
    {
     "name": "stdout",
     "output_type": "stream",
     "text": [
      "Number of used CPU's: 1\n"
     ]
    },
    {
     "name": "stderr",
     "output_type": "stream",
     "text": [
      "Generations:   4%|██▏                                                   | 4/100 [00:27<13:13,  8.26s/gen]"
     ]
    },
    {
     "name": "stdout",
     "output_type": "stream",
     "text": [
      "Number of used CPU's: 1\n"
     ]
    },
    {
     "name": "stderr",
     "output_type": "stream",
     "text": [
      "Generations:   5%|██▋                                                   | 5/100 [00:33<13:16,  8.39s/gen]"
     ]
    },
    {
     "name": "stdout",
     "output_type": "stream",
     "text": [
      "Hyperparameters optimization start\n",
      "  0%|                                                           | 0/1000 [00:00<?, ?trial/s, best loss=?]"
     ]
    },
    {
     "name": "stderr",
     "output_type": "stream",
     "text": [
      "\n"
     ]
    },
    {
     "name": "stdout",
     "output_type": "stream",
     "text": [
      " 35%|██████████▌                   | 353/1000 [00:26<00:47, 13.57trial/s, best loss: -0.9576292882744496]\n",
      "Hyperparameters optimization finished\n",
      "Return tuned pipeline due to the fact that obtained metric 0.958 equal or bigger than initial (- 5% deviation) 0.909\n"
     ]
    }
   ],
   "source": [
    "from fedot.api.main import Fedot\n",
    "\n",
    "# Task selection, initialisation of the framework\n",
    "fedot_model = Fedot(problem='classification', \n",
    "                    timeout=1, preset='fast_train',\n",
    "                    seed=20, verbose_level=0)\n",
    "\n",
    "# During fit, the pipeline composition algorithm is started\n",
    "pipeline = fedot_model.fit(features=x_data,\n",
    "                           target=y_data)"
   ]
  },
  {
   "cell_type": "code",
   "execution_count": 5,
   "id": "28c90af5-2062-461a-ad15-3ca8509fca21",
   "metadata": {},
   "outputs": [
    {
     "name": "stdout",
     "output_type": "stream",
     "text": [
      "Pipeline structure:\n",
      "{'depth': 3, 'length': 4, 'nodes': [logit, scaling, scaling, normalization]}\n",
      "logit - {'C': 8.371854009521165}\n",
      "scaling - default_params\n",
      "scaling - default_params\n",
      "normalization - default_params\n"
     ]
    }
   ],
   "source": [
    "pipeline.print_structure()"
   ]
  },
  {
   "cell_type": "code",
   "execution_count": 6,
   "id": "c585d5e0-f06b-4588-a050-e9b6ba455d39",
   "metadata": {},
   "outputs": [
    {
     "data": {
      "image/png": "[encoded data removed]",
      "text/plain": [
       "<Figure size 648x648 with 1 Axes>"
      ]
     },
     "metadata": {},
     "output_type": "display_data"
    }
   ],
   "source": [
    "pipeline.show()"
   ]
  },
  {
   "cell_type": "code",
   "execution_count": 7,
   "id": "6f5b1edc",
   "metadata": {},
   "outputs": [
    {
     "name": "stdout",
     "output_type": "stream",
     "text": [
      "{'depth': 3, 'length': 4, 'nodes': [logit, scaling, scaling, normalization]}\n",
      "ROC AUC score on training sample: 0.963\n"
     ]
    }
   ],
   "source": [
    "prediction = fedot_model.predict_proba(features=x_data)\n",
    "print(pipeline)\n",
    "print(f'ROC AUC score on training sample: {roc_auc(y_data, prediction):.3f}')"
   ]
  },
  {
   "cell_type": "markdown",
   "id": "9f5cbfc6",
   "metadata": {},
   "source": [
    "### Core-based example"
   ]
  },
  {
   "cell_type": "markdown",
   "id": "dc03e667",
   "metadata": {},
   "source": [
    "We will transform the data into a specific format (InputData) for the algorithm launch."
   ]
  },
  {
   "cell_type": "code",
   "execution_count": 8,
   "id": "d2760a49",
   "metadata": {},
   "outputs": [],
   "source": [
    "import datetime\n",
    "import numpy as np \n",
    "\n",
    "# Dataclass for wrapping arrays into it\n",
    "from fedot.core.data.data import InputData\n",
    "\n",
    "# Tasks to solve\n",
    "from fedot.core.repository.tasks import Task, TaskTypesEnum\n",
    "\n",
    "# Type of the input data\n",
    "from fedot.core.repository.dataset_types import DataTypesEnum\n",
    "\n",
    "# Repository with operations in the FEDOT\n",
    "from fedot.core.repository.operation_types_repository import get_operations_for_task\n",
    "\n",
    "# Pipeline of the FEDOT\n",
    "from fedot.core.pipelines.pipeline import Pipeline\n",
    "\n",
    "# Evolutionary algorithm classes \n",
    "from fedot.core.composer.composer_builder import ComposerBuilder\n",
    "from fedot.core.composer.gp_composer.gp_composer import PipelineComposerRequirements\n",
    "from fedot.core.optimisers.gp_comp.operators.inheritance import GeneticSchemeTypesEnum\n",
    "from fedot.core.optimisers.gp_comp.gp_optimiser import GPGraphOptimiserParameters\n",
    "from fedot.core.repository.quality_metrics_repository import ClassificationMetricsEnum"
   ]
  },
  {
   "cell_type": "markdown",
   "id": "b8317004",
   "metadata": {},
   "source": [
    "Let's define the task that we plan to solve - classification\n",
    "\n",
    "We will also wrap the data in a special structure-Input Data, where we will assign features, specify target, pass the data type (table) and the specified type of the task to be solved."
   ]
  },
  {
   "cell_type": "code",
   "execution_count": 9,
   "id": "c0f48cba",
   "metadata": {},
   "outputs": [],
   "source": [
    "# Define classification task\n",
    "task = Task(TaskTypesEnum.classification)\n",
    "\n",
    "# Prepare data to train the model\n",
    "input_data = InputData(idx=np.arange(0, len(x_data)), features=x_data,\n",
    "                       target=y_data, task=task,\n",
    "                       data_type=DataTypesEnum.table)"
   ]
  },
  {
   "cell_type": "markdown",
   "id": "25809823",
   "metadata": {},
   "source": [
    "Now we have identified the data and the task within which we will look for a solution.\n",
    "\n",
    "Next, we want to find a composite model (pipeline) of such a structure that predicts class labels as accurately as possible. We can determine from which models we can assemble such pipelines."
   ]
  },
  {
   "cell_type": "code",
   "execution_count": 11,
   "id": "957d1900",
   "metadata": {},
   "outputs": [],
   "source": [
    "# The search of the models provided by the framework that can be used as nodes in a pipeline for the selected task\n",
    "available_model_types = ['scaling', 'bernb', 'dt', 'knn', 'lda', 'logit', 'mlp', 'qda', 'rf', 'xgboost']"
   ]
  },
  {
   "cell_type": "markdown",
   "id": "541dd9f5",
   "metadata": {},
   "source": [
    "Let's set the metric that we will use during the evolution process, select \"ROCAUC_penalty\""
   ]
  },
  {
   "cell_type": "code",
   "execution_count": 12,
   "id": "6ec08f4e",
   "metadata": {},
   "outputs": [],
   "source": [
    "# The choice of the metric for the pipeline quality assessment during composition\n",
    "metric_function = ClassificationMetricsEnum.ROCAUC_penalty"
   ]
  },
  {
   "cell_type": "markdown",
   "id": "b6c345f2",
   "metadata": {},
   "source": [
    "#### Composer\n",
    "\n",
    "Composer is a genetic algorithm that allows you to search for optimal solutions by composing the pipelines of single machine learning models. \n",
    "\n",
    "Through PipelineComposerRequirements, we can set some hyperparameters to adjust the behavior of the evolutionary algorithm.\n",
    "\n",
    "With the help of PipelineComposerRequirements, you can manage:\n",
    "* types of models that can be inserted into primary nodes\n",
    "* types of models that can be inserted into secondary nodes\n",
    "* mutation probability\n",
    "* crossover probability\n",
    "* arity of directed acyclic graph (DAG)\n",
    "* maximum depth of the found pipeline\n",
    "* time to find a solution"
   ]
  },
  {
   "cell_type": "code",
   "execution_count": 13,
   "id": "5e09ae23",
   "metadata": {},
   "outputs": [],
   "source": [
    "# The choice and initialisation of the GP search\n",
    "timeout = datetime.timedelta(minutes=1)\n",
    "composer_requirements = PipelineComposerRequirements(\n",
    "    primary=available_model_types,\n",
    "    secondary=available_model_types, \n",
    "    max_arity=3,\n",
    "    max_depth=3, \n",
    "    pop_size=10, \n",
    "    num_of_generations=20,\n",
    "    crossover_prob=0.8, \n",
    "    mutation_prob=0.8,\n",
    "    timeout=timeout,\n",
    "    cv_folds=2)"
   ]
  },
  {
   "cell_type": "markdown",
   "id": "f6845bbb",
   "metadata": {},
   "source": [
    "Below we will define the genetic scheme of the algorithm. \n",
    "\n",
    "There are several schemes:\n",
    "* steady_state - evolutionary scheme, also known as $(\\mu+\\lambda)$. New population is generated by using a selection operator which is applied to the union of the offspring and the previous population;\n",
    "* generational - the offspring completely replaces the parent population;\n",
    "* parameter_free - steady-state evolutionary scheme, but $\\mu$ (population size) changes during evolution like the Fibonacci sequence and $\\lambda$ always equals to the previous item of the sequence with respect to $\\mu$.\n",
    "\n",
    "For more information you can check [preprint](https://arxiv.org/abs/2103.01301).\n",
    "\n",
    "We will also use the GPComposerBuilder structure, which allows you to set parameters in GPComposer.\n"
   ]
  },
  {
   "cell_type": "code",
   "execution_count": 14,
   "id": "f08ffc64-797a-4e2e-8925-2761a3538e27",
   "metadata": {},
   "outputs": [],
   "source": [
    "from fedot.core.composer.gp_composer.specific_operators import parameter_change_mutation\n",
    "from fedot.core.optimisers.gp_comp.operators.mutation import MutationTypesEnum"
   ]
  },
  {
   "cell_type": "code",
   "execution_count": 15,
   "id": "4da109a7-14f2-43ec-a937-54fa91efee34",
   "metadata": {
    "tags": []
   },
   "outputs": [
    {
     "name": "stdout",
     "output_type": "stream",
     "text": [
      "KFolds cross validation for pipeline composing was applied.\n",
      "pop size: 13, num of new inds: 8\n"
     ]
    },
    {
     "name": "stderr",
     "output_type": "stream",
     "text": [
      "Generations:   5%|███▏                                                           | 1/20 [00:00<?, ?gen/s]"
     ]
    },
    {
     "name": "stdout",
     "output_type": "stream",
     "text": [
      "Number of used CPU's: 1\n",
      "Best metric is -0.9517103333333333\n",
      "Generation num: 0\n",
      "max_depth: 3, no improvements: 0\n",
      "Number of used CPU's: 1\n",
      "pop size: 21, num of new inds: 13\n",
      "spent time: 0.5 min\n",
      "Best metric is -0.9517103333333333\n"
     ]
    },
    {
     "name": "stderr",
     "output_type": "stream",
     "text": [
      "Generations:  10%|█████▌                                                 | 2/20 [00:29<08:59, 29.96s/gen]"
     ]
    },
    {
     "name": "stdout",
     "output_type": "stream",
     "text": [
      "Generation num: 1\n",
      "max_depth: 3, no improvements: 1\n",
      "Number of used CPU's: 1\n",
      "pop size: 34, num of new inds: 21\n",
      "spent time: 0.8 min\n",
      "Best metric is -0.9517103333333333\n"
     ]
    },
    {
     "name": "stderr",
     "output_type": "stream",
     "text": [
      "Generations:  15%|████████▎                                              | 3/20 [00:50<07:10, 25.32s/gen]"
     ]
    },
    {
     "name": "stdout",
     "output_type": "stream",
     "text": [
      "Result:\n",
      "Best metric is -0.9517103333333333\n",
      "Composition time: 0.844 min\n",
      "Algorithm was terminated due to processing time limit\n",
      "GP composition finished\n"
     ]
    },
    {
     "name": "stderr",
     "output_type": "stream",
     "text": [
      "\n"
     ]
    }
   ],
   "source": [
    "# GP optimiser parameters choice\n",
    "scheme_type = GeneticSchemeTypesEnum.parameter_free\n",
    "mutation_types = [parameter_change_mutation, MutationTypesEnum.growth, MutationTypesEnum.reduce, MutationTypesEnum.simple]\n",
    "optimiser_parameters = GPGraphOptimiserParameters(genetic_scheme_type=scheme_type, mutation_types=mutation_types)\n",
    "\n",
    "# Create builder for composer and set composer params\n",
    "builder = ComposerBuilder(task=task).\\\n",
    "    with_requirements(composer_requirements).\\\n",
    "    with_metrics(metric_function).\\\n",
    "    with_optimiser(parameters=optimiser_parameters)\n",
    "\n",
    "# Create GP-based composer\n",
    "composer = builder.build()\n",
    "\n",
    "# the optimal pipeline generation by composition - the most time-consuming task\n",
    "pipeline_evo_composed = composer.compose_pipeline(data=input_data,\n",
    "                                                  is_visualise=True)"
   ]
  },
  {
   "cell_type": "markdown",
   "id": "dacdffc1",
   "metadata": {},
   "source": [
    "We got a pipeline of several machine learning models. But in the course of evolution, the hyperparameters of these models did not change. Now, within the given topology, we will optimize the hyperparameters."
   ]
  },
  {
   "cell_type": "code",
   "execution_count": 16,
   "id": "08354b36-360f-4086-aa0b-35282d48a531",
   "metadata": {
    "tags": []
   },
   "outputs": [
    {
     "name": "stdout",
     "output_type": "stream",
     "text": [
      "Start pipeline tuning\n",
      "Hyperparameters optimization start\n",
      "100%|█████████████████████████████████| 20/20 [00:11<00:00,  1.79trial/s, best loss: -0.9326765188834154]\n",
      "Hyperparameters optimization finished\n",
      "Return tuned pipeline due to the fact that obtained metric 0.933 equal or bigger than initial (- 5% deviation) 0.870\n",
      "Tuning was finished\n"
     ]
    },
    {
     "data": {
      "text/plain": [
       "{'depth': 4, 'length': 13, 'nodes': [mlp, lda, dt, mlp, knn, logit, lda, logit, logit, lda, rf, bernb, lda]}"
      ]
     },
     "execution_count": 16,
     "metadata": {},
     "output_type": "execute_result"
    }
   ],
   "source": [
    "pipeline_evo_composed.fine_tune_all_nodes(loss_function=roc_auc,\n",
    "                                          loss_params=None,\n",
    "                                          input_data=input_data,\n",
    "                                          iterations=20)"
   ]
  },
  {
   "cell_type": "markdown",
   "id": "4e702c55",
   "metadata": {},
   "source": [
    "Check the metric"
   ]
  },
  {
   "cell_type": "code",
   "execution_count": 17,
   "id": "48552727",
   "metadata": {},
   "outputs": [
    {
     "name": "stdout",
     "output_type": "stream",
     "text": [
      "ROC AUC score on training sample: 0.973\n"
     ]
    }
   ],
   "source": [
    "prediction = pipeline_evo_composed.predict(input_data)\n",
    "print(f'ROC AUC score on training sample: {roc_auc(input_data.target, prediction.predict):.3f}')"
   ]
  },
  {
   "cell_type": "markdown",
   "id": "591b3493",
   "metadata": {},
   "source": [
    "As you can see from the metric value, the model was well trained on the training sample. \n",
    "\n",
    "### Pipeline visualistion "
   ]
  },
  {
   "cell_type": "code",
   "execution_count": 18,
   "id": "fde8604e-9568-40f0-b114-f440a9fd6ebf",
   "metadata": {},
   "outputs": [
    {
     "data": {
      "image/png": "[encoded data removed]",
      "text/plain": [
       "<Figure size 648x648 with 1 Axes>"
      ]
     },
     "metadata": {},
     "output_type": "display_data"
    }
   ],
   "source": [
    "pipeline_evo_composed.show()"
   ]
  },
  {
   "cell_type": "markdown",
   "id": "4054a3e2-1b9c-4f9c-946d-11dd2335f6f6",
   "metadata": {},
   "source": [
    "So, in this notebook, you learned how to run FEDOT for the classification task, both using the API and using more complex constructs from the core based on the functionality of the FEDOT framework."
   ]
  }
 ],
 "metadata": {
  "kernelspec": {
   "display_name": "Python 3 (ipykernel)",
   "language": "python",
   "name": "python3"
  },
  "language_info": {
   "codemirror_mode": {
    "name": "ipython",
    "version": 3
   },
   "file_extension": ".py",
   "mimetype": "text/x-python",
   "name": "python",
   "nbconvert_exporter": "python",
   "pygments_lexer": "ipython3",
   "version": "3.7.0"
  }
 },
 "nbformat": 4,
 "nbformat_minor": 5
}
